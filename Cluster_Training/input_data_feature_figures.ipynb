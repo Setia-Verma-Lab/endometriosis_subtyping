{
 "cells": [
  {
   "cell_type": "code",
   "execution_count": 1,
   "metadata": {
    "collapsed": true,
    "pycharm": {
     "name": "#%%\n"
    }
   },
   "outputs": [],
   "source": [
    "import pandas as pd\n",
    "import os\n",
    "import seaborn as sns\n",
    "import matplotlib.pyplot as plt\n",
    "os.chdir('/project/ssverma_shared/projects/Endometriosis/Endo_Subtyping_Heterogeneity/Cluster_Training/')"
   ]
  },
  {
   "cell_type": "code",
   "execution_count": 2,
   "outputs": [
    {
     "name": "stdout",
     "output_type": "stream",
     "text": [
      "\u001B[33mBuilding DAG of jobs...\u001B[0m\r\n",
      "\u001B[33mNothing to be done (all requested files are present and up to date).\u001B[0m\r\n"
     ]
    }
   ],
   "source": [
    "! snakemake -n Pheno/FULL_PMBB_all_cleaned_phenos.csv"
   ],
   "metadata": {
    "collapsed": false,
    "pycharm": {
     "name": "#%%\n"
    }
   }
  },
  {
   "cell_type": "code",
   "execution_count": 3,
   "outputs": [],
   "source": [
    "output_data='Data/non_genotyped_PMBB_data_for_no_snps_clustering.csv'\n",
    "input_PMBB_cov='Pheno/FULL_PMBB_pheno_covars.csv'\n",
    "input_PMBB_pheno='Pheno/FULL_PMBB_all_cleaned_phenos.csv'\n",
    "input_geno_fam='/project/PMBB/PMBB-Release-2020-2.0/Genotype/PMBB-Release-2020-2.0_genetic_genotype.fam'\n",
    "input_imp_fam='/project/PMBB/PMBB-Release-2020-2.0/Imputed/pgen/PMBB-Release-2020-2.0_genetic_imputed-topmed-r2_chr22.psam'"
   ],
   "metadata": {
    "collapsed": false,
    "pycharm": {
     "name": "#%%\n"
    }
   }
  },
  {
   "cell_type": "code",
   "execution_count": 4,
   "outputs": [
    {
     "data": {
      "text/plain": "                   endometriosis_icd9  endometriosis_icd9_age@dx  \\\nPMBB_ID                                                            \nPMBB1000058643894                   0                        NaN   \nPMBB1000086054326                   0                        NaN   \nPMBB1000099138811                   0                        NaN   \nPMBB1000123579913                   0                        NaN   \nPMBB1000274307312                   0                        NaN   \n...                               ...                        ...   \nPMBB9999693743459                   0                        NaN   \nPMBB9999699575208                   0                        NaN   \nPMBB9999913905213                   0                        NaN   \nPMBB9999978508381                   0                        NaN   \nPMBB9999979612887                   0                        NaN   \n\n                   uterine_endometriosis_icd9  \\\nPMBB_ID                                         \nPMBB1000058643894                           0   \nPMBB1000086054326                           0   \nPMBB1000099138811                           0   \nPMBB1000123579913                           0   \nPMBB1000274307312                           0   \n...                                       ...   \nPMBB9999693743459                           0   \nPMBB9999699575208                           0   \nPMBB9999913905213                           0   \nPMBB9999978508381                           0   \nPMBB9999979612887                           0   \n\n                   uterine_endometriosis_icd9_age@dx  adenomyosis_icd9  \\\nPMBB_ID                                                                  \nPMBB1000058643894                                NaN                 0   \nPMBB1000086054326                                NaN                 0   \nPMBB1000099138811                                NaN                 0   \nPMBB1000123579913                                NaN                 0   \nPMBB1000274307312                                NaN                 0   \n...                                              ...               ...   \nPMBB9999693743459                                NaN                 0   \nPMBB9999699575208                                NaN                 0   \nPMBB9999913905213                                NaN                 0   \nPMBB9999978508381                                NaN                 0   \nPMBB9999979612887                                NaN                 0   \n\n                   adenomyosis_icd9_age@dx  not_uterine_endometriosis_icd9  \\\nPMBB_ID                                                                      \nPMBB1000058643894                      NaN                             0.0   \nPMBB1000086054326                      NaN                             0.0   \nPMBB1000099138811                      NaN                             0.0   \nPMBB1000123579913                      NaN                             0.0   \nPMBB1000274307312                      NaN                             0.0   \n...                                    ...                             ...   \nPMBB9999693743459                      NaN                             0.0   \nPMBB9999699575208                      NaN                             0.0   \nPMBB9999913905213                      NaN                             0.0   \nPMBB9999978508381                      NaN                             0.0   \nPMBB9999979612887                      NaN                             0.0   \n\n                   not_uterine_endometriosis_icd9_age@dx  not_adeno_endo_icd9  \\\nPMBB_ID                                                                         \nPMBB1000058643894                                    NaN                  0.0   \nPMBB1000086054326                                    NaN                  0.0   \nPMBB1000099138811                                    NaN                  0.0   \nPMBB1000123579913                                    NaN                  0.0   \nPMBB1000274307312                                    NaN                  0.0   \n...                                                  ...                  ...   \nPMBB9999693743459                                    NaN                  0.0   \nPMBB9999699575208                                    NaN                  0.0   \nPMBB9999913905213                                    NaN                  0.0   \nPMBB9999978508381                                    NaN                  0.0   \nPMBB9999979612887                                    NaN                  0.0   \n\n                   not_adeno_endo_icd9_age@dx  ...  alcohol_dependence_icd  \\\nPMBB_ID                                        ...                           \nPMBB1000058643894                         NaN  ...                       0   \nPMBB1000086054326                         NaN  ...                       0   \nPMBB1000099138811                         NaN  ...                       0   \nPMBB1000123579913                         NaN  ...                       0   \nPMBB1000274307312                         NaN  ...                       0   \n...                                       ...  ...                     ...   \nPMBB9999693743459                         NaN  ...                       0   \nPMBB9999699575208                         NaN  ...                       0   \nPMBB9999913905213                         NaN  ...                       0   \nPMBB9999978508381                         NaN  ...                       0   \nPMBB9999979612887                         NaN  ...                       0   \n\n                   alcohol_dependence_icd_age@dx  shortness_of_breath  \\\nPMBB_ID                                                                 \nPMBB1000058643894                            NaN                    0   \nPMBB1000086054326                            NaN                    0   \nPMBB1000099138811                            NaN                    0   \nPMBB1000123579913                            NaN                    0   \nPMBB1000274307312                            NaN                    0   \n...                                          ...                  ...   \nPMBB9999693743459                            NaN                    0   \nPMBB9999699575208                            NaN                    1   \nPMBB9999913905213                            NaN                    0   \nPMBB9999978508381                            NaN                    0   \nPMBB9999979612887                            NaN                    1   \n\n                   shortness_of_breath_age@dx  shortness_of_breath_icd  \\\nPMBB_ID                                                                  \nPMBB1000058643894                         NaN                        0   \nPMBB1000086054326                         NaN                        0   \nPMBB1000099138811                         NaN                        0   \nPMBB1000123579913                         NaN                        0   \nPMBB1000274307312                         NaN                        0   \n...                                       ...                      ...   \nPMBB9999693743459                         NaN                        0   \nPMBB9999699575208                   42.277892                        1   \nPMBB9999913905213                         NaN                        0   \nPMBB9999978508381                         NaN                        0   \nPMBB9999979612887                   72.232717                        1   \n\n                   shortness_of_breath_icd_age@dx  DATA_PULL_AGE  GENDER  \\\nPMBB_ID                                                                    \nPMBB1000058643894                             NaN      57.779603    Male   \nPMBB1000086054326                             NaN      41.552361  Female   \nPMBB1000099138811                             NaN      70.264203  Female   \nPMBB1000123579913                             NaN      24.355921  Female   \nPMBB1000274307312                             NaN      56.509240    Male   \n...                                           ...            ...     ...   \nPMBB9999693743459                             NaN      55.619439  Female   \nPMBB9999699575208                       42.277892      51.460643    Male   \nPMBB9999913905213                             NaN      50.340862  Female   \nPMBB9999978508381                             NaN      52.194387  Female   \nPMBB9999979612887                       72.232717      80.517454  Female   \n\n                                        RACE               ETHNICITY  \nPMBB_ID                                                               \nPMBB1000058643894                      White  Not Hispanic or Latino  \nPMBB1000086054326                        NaN  Not Hispanic or Latino  \nPMBB1000099138811                      White  Not Hispanic or Latino  \nPMBB1000123579913  Black or African American  Not Hispanic or Latino  \nPMBB1000274307312                      White  Not Hispanic or Latino  \n...                                      ...                     ...  \nPMBB9999693743459  Black or African American  Not Hispanic or Latino  \nPMBB9999699575208  Black or African American  Not Hispanic or Latino  \nPMBB9999913905213  Black or African American  Not Hispanic or Latino  \nPMBB9999978508381  Black or African American  Not Hispanic or Latino  \nPMBB9999979612887                      White  Not Hispanic or Latino  \n\n[247342 rows x 452 columns]",
      "text/html": "<div>\n<style scoped>\n    .dataframe tbody tr th:only-of-type {\n        vertical-align: middle;\n    }\n\n    .dataframe tbody tr th {\n        vertical-align: top;\n    }\n\n    .dataframe thead th {\n        text-align: right;\n    }\n</style>\n<table border=\"1\" class=\"dataframe\">\n  <thead>\n    <tr style=\"text-align: right;\">\n      <th></th>\n      <th>endometriosis_icd9</th>\n      <th>endometriosis_icd9_age@dx</th>\n      <th>uterine_endometriosis_icd9</th>\n      <th>uterine_endometriosis_icd9_age@dx</th>\n      <th>adenomyosis_icd9</th>\n      <th>adenomyosis_icd9_age@dx</th>\n      <th>not_uterine_endometriosis_icd9</th>\n      <th>not_uterine_endometriosis_icd9_age@dx</th>\n      <th>not_adeno_endo_icd9</th>\n      <th>not_adeno_endo_icd9_age@dx</th>\n      <th>...</th>\n      <th>alcohol_dependence_icd</th>\n      <th>alcohol_dependence_icd_age@dx</th>\n      <th>shortness_of_breath</th>\n      <th>shortness_of_breath_age@dx</th>\n      <th>shortness_of_breath_icd</th>\n      <th>shortness_of_breath_icd_age@dx</th>\n      <th>DATA_PULL_AGE</th>\n      <th>GENDER</th>\n      <th>RACE</th>\n      <th>ETHNICITY</th>\n    </tr>\n    <tr>\n      <th>PMBB_ID</th>\n      <th></th>\n      <th></th>\n      <th></th>\n      <th></th>\n      <th></th>\n      <th></th>\n      <th></th>\n      <th></th>\n      <th></th>\n      <th></th>\n      <th></th>\n      <th></th>\n      <th></th>\n      <th></th>\n      <th></th>\n      <th></th>\n      <th></th>\n      <th></th>\n      <th></th>\n      <th></th>\n      <th></th>\n    </tr>\n  </thead>\n  <tbody>\n    <tr>\n      <th>PMBB1000058643894</th>\n      <td>0</td>\n      <td>NaN</td>\n      <td>0</td>\n      <td>NaN</td>\n      <td>0</td>\n      <td>NaN</td>\n      <td>0.0</td>\n      <td>NaN</td>\n      <td>0.0</td>\n      <td>NaN</td>\n      <td>...</td>\n      <td>0</td>\n      <td>NaN</td>\n      <td>0</td>\n      <td>NaN</td>\n      <td>0</td>\n      <td>NaN</td>\n      <td>57.779603</td>\n      <td>Male</td>\n      <td>White</td>\n      <td>Not Hispanic or Latino</td>\n    </tr>\n    <tr>\n      <th>PMBB1000086054326</th>\n      <td>0</td>\n      <td>NaN</td>\n      <td>0</td>\n      <td>NaN</td>\n      <td>0</td>\n      <td>NaN</td>\n      <td>0.0</td>\n      <td>NaN</td>\n      <td>0.0</td>\n      <td>NaN</td>\n      <td>...</td>\n      <td>0</td>\n      <td>NaN</td>\n      <td>0</td>\n      <td>NaN</td>\n      <td>0</td>\n      <td>NaN</td>\n      <td>41.552361</td>\n      <td>Female</td>\n      <td>NaN</td>\n      <td>Not Hispanic or Latino</td>\n    </tr>\n    <tr>\n      <th>PMBB1000099138811</th>\n      <td>0</td>\n      <td>NaN</td>\n      <td>0</td>\n      <td>NaN</td>\n      <td>0</td>\n      <td>NaN</td>\n      <td>0.0</td>\n      <td>NaN</td>\n      <td>0.0</td>\n      <td>NaN</td>\n      <td>...</td>\n      <td>0</td>\n      <td>NaN</td>\n      <td>0</td>\n      <td>NaN</td>\n      <td>0</td>\n      <td>NaN</td>\n      <td>70.264203</td>\n      <td>Female</td>\n      <td>White</td>\n      <td>Not Hispanic or Latino</td>\n    </tr>\n    <tr>\n      <th>PMBB1000123579913</th>\n      <td>0</td>\n      <td>NaN</td>\n      <td>0</td>\n      <td>NaN</td>\n      <td>0</td>\n      <td>NaN</td>\n      <td>0.0</td>\n      <td>NaN</td>\n      <td>0.0</td>\n      <td>NaN</td>\n      <td>...</td>\n      <td>0</td>\n      <td>NaN</td>\n      <td>0</td>\n      <td>NaN</td>\n      <td>0</td>\n      <td>NaN</td>\n      <td>24.355921</td>\n      <td>Female</td>\n      <td>Black or African American</td>\n      <td>Not Hispanic or Latino</td>\n    </tr>\n    <tr>\n      <th>PMBB1000274307312</th>\n      <td>0</td>\n      <td>NaN</td>\n      <td>0</td>\n      <td>NaN</td>\n      <td>0</td>\n      <td>NaN</td>\n      <td>0.0</td>\n      <td>NaN</td>\n      <td>0.0</td>\n      <td>NaN</td>\n      <td>...</td>\n      <td>0</td>\n      <td>NaN</td>\n      <td>0</td>\n      <td>NaN</td>\n      <td>0</td>\n      <td>NaN</td>\n      <td>56.509240</td>\n      <td>Male</td>\n      <td>White</td>\n      <td>Not Hispanic or Latino</td>\n    </tr>\n    <tr>\n      <th>...</th>\n      <td>...</td>\n      <td>...</td>\n      <td>...</td>\n      <td>...</td>\n      <td>...</td>\n      <td>...</td>\n      <td>...</td>\n      <td>...</td>\n      <td>...</td>\n      <td>...</td>\n      <td>...</td>\n      <td>...</td>\n      <td>...</td>\n      <td>...</td>\n      <td>...</td>\n      <td>...</td>\n      <td>...</td>\n      <td>...</td>\n      <td>...</td>\n      <td>...</td>\n      <td>...</td>\n    </tr>\n    <tr>\n      <th>PMBB9999693743459</th>\n      <td>0</td>\n      <td>NaN</td>\n      <td>0</td>\n      <td>NaN</td>\n      <td>0</td>\n      <td>NaN</td>\n      <td>0.0</td>\n      <td>NaN</td>\n      <td>0.0</td>\n      <td>NaN</td>\n      <td>...</td>\n      <td>0</td>\n      <td>NaN</td>\n      <td>0</td>\n      <td>NaN</td>\n      <td>0</td>\n      <td>NaN</td>\n      <td>55.619439</td>\n      <td>Female</td>\n      <td>Black or African American</td>\n      <td>Not Hispanic or Latino</td>\n    </tr>\n    <tr>\n      <th>PMBB9999699575208</th>\n      <td>0</td>\n      <td>NaN</td>\n      <td>0</td>\n      <td>NaN</td>\n      <td>0</td>\n      <td>NaN</td>\n      <td>0.0</td>\n      <td>NaN</td>\n      <td>0.0</td>\n      <td>NaN</td>\n      <td>...</td>\n      <td>0</td>\n      <td>NaN</td>\n      <td>1</td>\n      <td>42.277892</td>\n      <td>1</td>\n      <td>42.277892</td>\n      <td>51.460643</td>\n      <td>Male</td>\n      <td>Black or African American</td>\n      <td>Not Hispanic or Latino</td>\n    </tr>\n    <tr>\n      <th>PMBB9999913905213</th>\n      <td>0</td>\n      <td>NaN</td>\n      <td>0</td>\n      <td>NaN</td>\n      <td>0</td>\n      <td>NaN</td>\n      <td>0.0</td>\n      <td>NaN</td>\n      <td>0.0</td>\n      <td>NaN</td>\n      <td>...</td>\n      <td>0</td>\n      <td>NaN</td>\n      <td>0</td>\n      <td>NaN</td>\n      <td>0</td>\n      <td>NaN</td>\n      <td>50.340862</td>\n      <td>Female</td>\n      <td>Black or African American</td>\n      <td>Not Hispanic or Latino</td>\n    </tr>\n    <tr>\n      <th>PMBB9999978508381</th>\n      <td>0</td>\n      <td>NaN</td>\n      <td>0</td>\n      <td>NaN</td>\n      <td>0</td>\n      <td>NaN</td>\n      <td>0.0</td>\n      <td>NaN</td>\n      <td>0.0</td>\n      <td>NaN</td>\n      <td>...</td>\n      <td>0</td>\n      <td>NaN</td>\n      <td>0</td>\n      <td>NaN</td>\n      <td>0</td>\n      <td>NaN</td>\n      <td>52.194387</td>\n      <td>Female</td>\n      <td>Black or African American</td>\n      <td>Not Hispanic or Latino</td>\n    </tr>\n    <tr>\n      <th>PMBB9999979612887</th>\n      <td>0</td>\n      <td>NaN</td>\n      <td>0</td>\n      <td>NaN</td>\n      <td>0</td>\n      <td>NaN</td>\n      <td>0.0</td>\n      <td>NaN</td>\n      <td>0.0</td>\n      <td>NaN</td>\n      <td>...</td>\n      <td>0</td>\n      <td>NaN</td>\n      <td>1</td>\n      <td>72.232717</td>\n      <td>1</td>\n      <td>72.232717</td>\n      <td>80.517454</td>\n      <td>Female</td>\n      <td>White</td>\n      <td>Not Hispanic or Latino</td>\n    </tr>\n  </tbody>\n</table>\n<p>247342 rows × 452 columns</p>\n</div>"
     },
     "execution_count": 4,
     "metadata": {},
     "output_type": "execute_result"
    }
   ],
   "source": [
    "covDF = pd.read_csv(input_PMBB_cov,index_col='PMBB_ID')\n",
    "covDF"
   ],
   "metadata": {
    "collapsed": false,
    "pycharm": {
     "name": "#%%\n"
    }
   }
  },
  {
   "cell_type": "code",
   "execution_count": 5,
   "outputs": [
    {
     "data": {
      "text/plain": "                   ICD_1  ICD_2  ICD_1_with_N80.0  ICD_2_with_N80.0  CC1_ALL  \\\nPMBB_ID                                                                        \nPMBB1000086054326      0      0                 0                 0      NaN   \nPMBB1000099138811      0      0                 0                 0      NaN   \nPMBB1000123579913      0      0                 0                 0      NaN   \nPMBB1000279001639      0      0                 0                 0      NaN   \nPMBB1000314700220      0      0                 0                 0      NaN   \n...                  ...    ...               ...               ...      ...   \nPMBB9999688670376      0      0                 0                 0      NaN   \nPMBB9999693743459      0      0                 0                 0      NaN   \nPMBB9999913905213      0      0                 0                 0      NaN   \nPMBB9999978508381      0      0                 0                 0      NaN   \nPMBB9999979612887      0      0                 0                 0      NaN   \n\n                   CC2_ALL  CC3_ALL  CC1_RA  CC2_RA  CC3_RA  ...  \\\nPMBB_ID                                                      ...   \nPMBB1000086054326      0.0      NaN     NaN     0.0     NaN  ...   \nPMBB1000099138811      0.0      NaN     NaN     0.0     NaN  ...   \nPMBB1000123579913      0.0      NaN     NaN     0.0     NaN  ...   \nPMBB1000279001639      0.0      NaN     NaN     0.0     NaN  ...   \nPMBB1000314700220      0.0      NaN     NaN     0.0     NaN  ...   \n...                    ...      ...     ...     ...     ...  ...   \nPMBB9999688670376      0.0      NaN     NaN     0.0     NaN  ...   \nPMBB9999693743459      0.0      NaN     NaN     0.0     NaN  ...   \nPMBB9999913905213      0.0      NaN     NaN     0.0     NaN  ...   \nPMBB9999978508381      0.0      NaN     NaN     0.0     NaN  ...   \nPMBB9999979612887      0.0      NaN     NaN     0.0     NaN  ...   \n\n                   rheumatoid_arthritis  systemic_lupus_erythematosus  \\\nPMBB_ID                                                                 \nPMBB1000086054326                     0                             0   \nPMBB1000099138811                     0                             0   \nPMBB1000123579913                     0                             0   \nPMBB1000279001639                     0                             0   \nPMBB1000314700220                     0                             0   \n...                                 ...                           ...   \nPMBB9999688670376                     0                             0   \nPMBB9999693743459                     0                             0   \nPMBB9999913905213                     0                             0   \nPMBB9999978508381                     0                             0   \nPMBB9999979612887                     0                             0   \n\n                   multiple_sclerosis  asthma  nicotine_dependence  \\\nPMBB_ID                                                              \nPMBB1000086054326                   0       0                    0   \nPMBB1000099138811                   0       0                    0   \nPMBB1000123579913                   0       0                    0   \nPMBB1000279001639                   0       0                    0   \nPMBB1000314700220                   0       0                    0   \n...                               ...     ...                  ...   \nPMBB9999688670376                   0       0                    0   \nPMBB9999693743459                   0       0                    0   \nPMBB9999913905213                   0       0                    0   \nPMBB9999978508381                   0       0                    0   \nPMBB9999979612887                   0       0                    0   \n\n                   alcohol_dependence  shortness_of_breath  GENDER  \\\nPMBB_ID                                                              \nPMBB1000086054326                   0                    0  Female   \nPMBB1000099138811                   0                    0  Female   \nPMBB1000123579913                   0                    0  Female   \nPMBB1000279001639                   0                    0  Female   \nPMBB1000314700220                   0                    0  Female   \n...                               ...                  ...     ...   \nPMBB9999688670376                   0                    0  Female   \nPMBB9999693743459                   0                    0  Female   \nPMBB9999913905213                   0                    0  Female   \nPMBB9999978508381                   0                    0  Female   \nPMBB9999979612887                   0                    1  Female   \n\n                                        RACE               ETHNICITY  \nPMBB_ID                                                               \nPMBB1000086054326                        NaN  Not Hispanic or Latino  \nPMBB1000099138811                      White  Not Hispanic or Latino  \nPMBB1000123579913  Black or African American  Not Hispanic or Latino  \nPMBB1000279001639                      White  Not Hispanic or Latino  \nPMBB1000314700220                      White         Hispanic Latino  \n...                                      ...                     ...  \nPMBB9999688670376            Some Other Race  Not Hispanic or Latino  \nPMBB9999693743459  Black or African American  Not Hispanic or Latino  \nPMBB9999913905213  Black or African American  Not Hispanic or Latino  \nPMBB9999978508381  Black or African American  Not Hispanic or Latino  \nPMBB9999979612887                      White  Not Hispanic or Latino  \n\n[139554 rows x 88 columns]",
      "text/html": "<div>\n<style scoped>\n    .dataframe tbody tr th:only-of-type {\n        vertical-align: middle;\n    }\n\n    .dataframe tbody tr th {\n        vertical-align: top;\n    }\n\n    .dataframe thead th {\n        text-align: right;\n    }\n</style>\n<table border=\"1\" class=\"dataframe\">\n  <thead>\n    <tr style=\"text-align: right;\">\n      <th></th>\n      <th>ICD_1</th>\n      <th>ICD_2</th>\n      <th>ICD_1_with_N80.0</th>\n      <th>ICD_2_with_N80.0</th>\n      <th>CC1_ALL</th>\n      <th>CC2_ALL</th>\n      <th>CC3_ALL</th>\n      <th>CC1_RA</th>\n      <th>CC2_RA</th>\n      <th>CC3_RA</th>\n      <th>...</th>\n      <th>rheumatoid_arthritis</th>\n      <th>systemic_lupus_erythematosus</th>\n      <th>multiple_sclerosis</th>\n      <th>asthma</th>\n      <th>nicotine_dependence</th>\n      <th>alcohol_dependence</th>\n      <th>shortness_of_breath</th>\n      <th>GENDER</th>\n      <th>RACE</th>\n      <th>ETHNICITY</th>\n    </tr>\n    <tr>\n      <th>PMBB_ID</th>\n      <th></th>\n      <th></th>\n      <th></th>\n      <th></th>\n      <th></th>\n      <th></th>\n      <th></th>\n      <th></th>\n      <th></th>\n      <th></th>\n      <th></th>\n      <th></th>\n      <th></th>\n      <th></th>\n      <th></th>\n      <th></th>\n      <th></th>\n      <th></th>\n      <th></th>\n      <th></th>\n      <th></th>\n    </tr>\n  </thead>\n  <tbody>\n    <tr>\n      <th>PMBB1000086054326</th>\n      <td>0</td>\n      <td>0</td>\n      <td>0</td>\n      <td>0</td>\n      <td>NaN</td>\n      <td>0.0</td>\n      <td>NaN</td>\n      <td>NaN</td>\n      <td>0.0</td>\n      <td>NaN</td>\n      <td>...</td>\n      <td>0</td>\n      <td>0</td>\n      <td>0</td>\n      <td>0</td>\n      <td>0</td>\n      <td>0</td>\n      <td>0</td>\n      <td>Female</td>\n      <td>NaN</td>\n      <td>Not Hispanic or Latino</td>\n    </tr>\n    <tr>\n      <th>PMBB1000099138811</th>\n      <td>0</td>\n      <td>0</td>\n      <td>0</td>\n      <td>0</td>\n      <td>NaN</td>\n      <td>0.0</td>\n      <td>NaN</td>\n      <td>NaN</td>\n      <td>0.0</td>\n      <td>NaN</td>\n      <td>...</td>\n      <td>0</td>\n      <td>0</td>\n      <td>0</td>\n      <td>0</td>\n      <td>0</td>\n      <td>0</td>\n      <td>0</td>\n      <td>Female</td>\n      <td>White</td>\n      <td>Not Hispanic or Latino</td>\n    </tr>\n    <tr>\n      <th>PMBB1000123579913</th>\n      <td>0</td>\n      <td>0</td>\n      <td>0</td>\n      <td>0</td>\n      <td>NaN</td>\n      <td>0.0</td>\n      <td>NaN</td>\n      <td>NaN</td>\n      <td>0.0</td>\n      <td>NaN</td>\n      <td>...</td>\n      <td>0</td>\n      <td>0</td>\n      <td>0</td>\n      <td>0</td>\n      <td>0</td>\n      <td>0</td>\n      <td>0</td>\n      <td>Female</td>\n      <td>Black or African American</td>\n      <td>Not Hispanic or Latino</td>\n    </tr>\n    <tr>\n      <th>PMBB1000279001639</th>\n      <td>0</td>\n      <td>0</td>\n      <td>0</td>\n      <td>0</td>\n      <td>NaN</td>\n      <td>0.0</td>\n      <td>NaN</td>\n      <td>NaN</td>\n      <td>0.0</td>\n      <td>NaN</td>\n      <td>...</td>\n      <td>0</td>\n      <td>0</td>\n      <td>0</td>\n      <td>0</td>\n      <td>0</td>\n      <td>0</td>\n      <td>0</td>\n      <td>Female</td>\n      <td>White</td>\n      <td>Not Hispanic or Latino</td>\n    </tr>\n    <tr>\n      <th>PMBB1000314700220</th>\n      <td>0</td>\n      <td>0</td>\n      <td>0</td>\n      <td>0</td>\n      <td>NaN</td>\n      <td>0.0</td>\n      <td>NaN</td>\n      <td>NaN</td>\n      <td>0.0</td>\n      <td>NaN</td>\n      <td>...</td>\n      <td>0</td>\n      <td>0</td>\n      <td>0</td>\n      <td>0</td>\n      <td>0</td>\n      <td>0</td>\n      <td>0</td>\n      <td>Female</td>\n      <td>White</td>\n      <td>Hispanic Latino</td>\n    </tr>\n    <tr>\n      <th>...</th>\n      <td>...</td>\n      <td>...</td>\n      <td>...</td>\n      <td>...</td>\n      <td>...</td>\n      <td>...</td>\n      <td>...</td>\n      <td>...</td>\n      <td>...</td>\n      <td>...</td>\n      <td>...</td>\n      <td>...</td>\n      <td>...</td>\n      <td>...</td>\n      <td>...</td>\n      <td>...</td>\n      <td>...</td>\n      <td>...</td>\n      <td>...</td>\n      <td>...</td>\n      <td>...</td>\n    </tr>\n    <tr>\n      <th>PMBB9999688670376</th>\n      <td>0</td>\n      <td>0</td>\n      <td>0</td>\n      <td>0</td>\n      <td>NaN</td>\n      <td>0.0</td>\n      <td>NaN</td>\n      <td>NaN</td>\n      <td>0.0</td>\n      <td>NaN</td>\n      <td>...</td>\n      <td>0</td>\n      <td>0</td>\n      <td>0</td>\n      <td>0</td>\n      <td>0</td>\n      <td>0</td>\n      <td>0</td>\n      <td>Female</td>\n      <td>Some Other Race</td>\n      <td>Not Hispanic or Latino</td>\n    </tr>\n    <tr>\n      <th>PMBB9999693743459</th>\n      <td>0</td>\n      <td>0</td>\n      <td>0</td>\n      <td>0</td>\n      <td>NaN</td>\n      <td>0.0</td>\n      <td>NaN</td>\n      <td>NaN</td>\n      <td>0.0</td>\n      <td>NaN</td>\n      <td>...</td>\n      <td>0</td>\n      <td>0</td>\n      <td>0</td>\n      <td>0</td>\n      <td>0</td>\n      <td>0</td>\n      <td>0</td>\n      <td>Female</td>\n      <td>Black or African American</td>\n      <td>Not Hispanic or Latino</td>\n    </tr>\n    <tr>\n      <th>PMBB9999913905213</th>\n      <td>0</td>\n      <td>0</td>\n      <td>0</td>\n      <td>0</td>\n      <td>NaN</td>\n      <td>0.0</td>\n      <td>NaN</td>\n      <td>NaN</td>\n      <td>0.0</td>\n      <td>NaN</td>\n      <td>...</td>\n      <td>0</td>\n      <td>0</td>\n      <td>0</td>\n      <td>0</td>\n      <td>0</td>\n      <td>0</td>\n      <td>0</td>\n      <td>Female</td>\n      <td>Black or African American</td>\n      <td>Not Hispanic or Latino</td>\n    </tr>\n    <tr>\n      <th>PMBB9999978508381</th>\n      <td>0</td>\n      <td>0</td>\n      <td>0</td>\n      <td>0</td>\n      <td>NaN</td>\n      <td>0.0</td>\n      <td>NaN</td>\n      <td>NaN</td>\n      <td>0.0</td>\n      <td>NaN</td>\n      <td>...</td>\n      <td>0</td>\n      <td>0</td>\n      <td>0</td>\n      <td>0</td>\n      <td>0</td>\n      <td>0</td>\n      <td>0</td>\n      <td>Female</td>\n      <td>Black or African American</td>\n      <td>Not Hispanic or Latino</td>\n    </tr>\n    <tr>\n      <th>PMBB9999979612887</th>\n      <td>0</td>\n      <td>0</td>\n      <td>0</td>\n      <td>0</td>\n      <td>NaN</td>\n      <td>0.0</td>\n      <td>NaN</td>\n      <td>NaN</td>\n      <td>0.0</td>\n      <td>NaN</td>\n      <td>...</td>\n      <td>0</td>\n      <td>0</td>\n      <td>0</td>\n      <td>0</td>\n      <td>0</td>\n      <td>0</td>\n      <td>1</td>\n      <td>Female</td>\n      <td>White</td>\n      <td>Not Hispanic or Latino</td>\n    </tr>\n  </tbody>\n</table>\n<p>139554 rows × 88 columns</p>\n</div>"
     },
     "execution_count": 5,
     "metadata": {},
     "output_type": "execute_result"
    }
   ],
   "source": [
    "pheno = pd.read_csv(input_PMBB_pheno, index_col='PMBB_ID')\n",
    "pheno = pheno.loc[pheno.index.isin(covDF.index)]\n",
    "pheno"
   ],
   "metadata": {
    "collapsed": false,
    "pycharm": {
     "name": "#%%\n"
    }
   }
  },
  {
   "cell_type": "code",
   "execution_count": 6,
   "outputs": [
    {
     "name": "stdout",
     "output_type": "stream",
     "text": [
      "Full PMBB: 139554\n",
      "Non-Genotyped PMBB: 117615\n"
     ]
    }
   ],
   "source": [
    "geno_fam = pd.read_table(input_geno_fam, header=None, sep=' ', index_col=0)\n",
    "imp_fam = pd.read_table(input_imp_fam, index_col='IID', sep='\\s+')\n",
    "\n",
    "all_genetic_data_samples = geno_fam.index.union(imp_fam.index)\n",
    "print('Full PMBB:', len(pheno))\n",
    "pheno = pheno[~pheno.index.isin(all_genetic_data_samples)]\n",
    "print('Non-Genotyped PMBB:', len(pheno))"
   ],
   "metadata": {
    "collapsed": false,
    "pycharm": {
     "name": "#%%\n"
    }
   }
  },
  {
   "cell_type": "code",
   "execution_count": 7,
   "outputs": [
    {
     "name": "stdout",
     "output_type": "stream",
     "text": [
      "117615 4078\n",
      "0    113537\n",
      "1      4078\n",
      "Name: ICD_1_with_N80.0, dtype: int64\n",
      "Num Binary Features: 49\n",
      "Num Non-Rare Binary Features: 22\n"
     ]
    }
   ],
   "source": [
    "use_pheno = 'ICD_1_with_N80.0'\n",
    "\n",
    "cases = pheno.index[pheno[use_pheno] == 1]\n",
    "controls = (pheno[use_pheno] == 0).index\n",
    "\n",
    "print(len(controls), len(cases))\n",
    "print(pheno[use_pheno].fillna('NA').value_counts())\n",
    "\n",
    "feature_cols = [c for c in covDF.columns if 'icd' not in c and ('age' not in c.lower() or c == 'miscarriage') and 'PC' not in c and 'ANCESTRY' not in c and 'SEX' not in c and 'Related' not in c]\n",
    "feature_cols = [c for c in feature_cols if c[-5:] != '_last' and c[-6:] != '_first' and c[-5:].lower() != '_mean']\n",
    "\n",
    "feature_df = covDF.loc[cases, feature_cols].copy()\n",
    "all_binary_cols = [c for c in feature_df.columns if len(feature_df[c].dropna().unique()) == 2]\n",
    "all_binary_cols.remove('type_2_diabetes')\n",
    "print(f'Num Binary Features: {len(all_binary_cols)}')\n",
    "\n",
    "prev_threshold = 0.05\n",
    "drop_binary_cols = [c for c in all_binary_cols if feature_df.loc[cases, c].mean() < prev_threshold]\n",
    "feature_df = feature_df.drop(columns=drop_binary_cols)\n",
    "binary_cols = [c for c in all_binary_cols if c not in drop_binary_cols]\n",
    "print(f'Num Non-Rare Binary Features: {len(binary_cols)}')"
   ],
   "metadata": {
    "collapsed": false,
    "pycharm": {
     "name": "#%%\n"
    }
   }
  },
  {
   "cell_type": "code",
   "execution_count": 66,
   "outputs": [
    {
     "data": {
      "text/plain": "10"
     },
     "execution_count": 66,
     "metadata": {},
     "output_type": "execute_result"
    }
   ],
   "source": [
    "endo_icd_subtypes = ['uterine_endometriosis']\n",
    "endo_icd_subtypes.extend([c for c in all_binary_cols if 'endo_N80' in c])\n",
    "\n",
    "long_term_outcomes = [c for c in all_binary_cols if 'cancer' in c]\n",
    "long_term_outcomes.extend([c for c in all_binary_cols if 'infarction' in c])\n",
    "long_term_outcomes.append('ischemic_heart_disease_acute')\n",
    "long_term_outcomes.append('melanoma')\n",
    "long_term_outcomes.append('non_hodgkins_lymphoma')\n",
    "\n",
    "comorbidities = ['fibromyalgia', 'migraine', 'ibs',\n",
    "                 'ulcerative_colitis', 'interstitial_cystitis', 'rheumatoid_arthritis',\n",
    "                 'systemic_lupus_erythematosus', 'multiple_sclerosis', 'asthma',\n",
    "                 'pcos', 'abnormal_cholesterol', 'hypertension', 'ischemic_heart_disease_chronic',\n",
    "                 'chronic_pelvic_peritonitis']\n",
    "\n",
    "symptoms = ['dysmenorrhea', 'dysuria', 'pain_with_sex', 'irregular_menstruation', 'shortness_of_breath', 'leiomyoma_of_uterus',\n",
    "            'abdominal_pelvic_pain', 'lower_abdominal_pain']\n",
    "\n",
    "pregnancy_related = ['preterm_labor', 'placental_disorders', 'hypertensive_pregnancy_issues', 'infertility',\n",
    "                     'miscarriage', 'high_risk_pregnancy_supervision', 'uncomplicated_delivery_encounter',\n",
    "                     'pregnancy_with_abortive_outcome']\n",
    "\n",
    "len(long_term_outcomes)"
   ],
   "metadata": {
    "collapsed": false,
    "pycharm": {
     "name": "#%%\n"
    }
   }
  },
  {
   "cell_type": "code",
   "execution_count": 81,
   "outputs": [
    {
     "data": {
      "application/vnd.plotly.v1+json": {
       "data": [
        {
         "link": {
          "color": [
           "rgba(100,100,100,0.6)",
           "rgba(0,255,0,0.6)",
           "rgba(0,255,0,0.6)",
           "rgba(0,255,0,0.6)",
           "rgba(100,100,100,0.6)",
           "rgba(100,100,100,0.6)",
           "rgba(100,100,100,0.6)",
           "rgba(0,255,0,0.6)",
           "rgba(0,255,0,0.6)",
           "rgba(0,255,0,0.6)",
           "rgba(100,100,100,0.6)"
          ],
          "label": [
           9,
           8,
           8,
           14,
           0,
           6,
           7,
           8,
           2,
           7,
           9
          ],
          "source": [
           0,
           0,
           0,
           0,
           2,
           3,
           4,
           2,
           3,
           4,
           1
          ],
          "target": [
           1,
           2,
           3,
           4,
           5,
           5,
           5,
           6,
           6,
           6,
           7
          ],
          "value": [
           9,
           8,
           8,
           14,
           0,
           6,
           7,
           8,
           2,
           7,
           9
          ]
         },
         "node": {
          "color": [
           "rgba(100,100,100,0.6)",
           "rgba(100,100,100,0.6)",
           "rgba(100,100,100,0.6)",
           "rgba(100,100,100,0.6)",
           "rgba(100,100,100,0.6)",
           "rgba(100,100,100,0.6)",
           "rgba(0,255,0,0.6)",
           "rgba(100,100,100,0.6)"
          ],
          "label": [
           "ICD-Extracted Features (39)",
           "Endometriosis ICD Subtypes (9)",
           "Symptoms (8)",
           "Pregnancy-Related (8)",
           "Comorbidities (14)",
           "Too Rare: <5% (13)",
           "Non-Rare: >5% (17)",
           ""
          ],
          "line": {
           "color": "black",
           "width": 0.5
          },
          "pad": 15,
          "thickness": 20
         },
         "type": "sankey"
        }
       ],
       "layout": {
        "template": {
         "data": {
          "histogram2dcontour": [
           {
            "type": "histogram2dcontour",
            "colorbar": {
             "outlinewidth": 0,
             "ticks": ""
            },
            "colorscale": [
             [
              0.0,
              "#0d0887"
             ],
             [
              0.1111111111111111,
              "#46039f"
             ],
             [
              0.2222222222222222,
              "#7201a8"
             ],
             [
              0.3333333333333333,
              "#9c179e"
             ],
             [
              0.4444444444444444,
              "#bd3786"
             ],
             [
              0.5555555555555556,
              "#d8576b"
             ],
             [
              0.6666666666666666,
              "#ed7953"
             ],
             [
              0.7777777777777778,
              "#fb9f3a"
             ],
             [
              0.8888888888888888,
              "#fdca26"
             ],
             [
              1.0,
              "#f0f921"
             ]
            ]
           }
          ],
          "choropleth": [
           {
            "type": "choropleth",
            "colorbar": {
             "outlinewidth": 0,
             "ticks": ""
            }
           }
          ],
          "histogram2d": [
           {
            "type": "histogram2d",
            "colorbar": {
             "outlinewidth": 0,
             "ticks": ""
            },
            "colorscale": [
             [
              0.0,
              "#0d0887"
             ],
             [
              0.1111111111111111,
              "#46039f"
             ],
             [
              0.2222222222222222,
              "#7201a8"
             ],
             [
              0.3333333333333333,
              "#9c179e"
             ],
             [
              0.4444444444444444,
              "#bd3786"
             ],
             [
              0.5555555555555556,
              "#d8576b"
             ],
             [
              0.6666666666666666,
              "#ed7953"
             ],
             [
              0.7777777777777778,
              "#fb9f3a"
             ],
             [
              0.8888888888888888,
              "#fdca26"
             ],
             [
              1.0,
              "#f0f921"
             ]
            ]
           }
          ],
          "heatmap": [
           {
            "type": "heatmap",
            "colorbar": {
             "outlinewidth": 0,
             "ticks": ""
            },
            "colorscale": [
             [
              0.0,
              "#0d0887"
             ],
             [
              0.1111111111111111,
              "#46039f"
             ],
             [
              0.2222222222222222,
              "#7201a8"
             ],
             [
              0.3333333333333333,
              "#9c179e"
             ],
             [
              0.4444444444444444,
              "#bd3786"
             ],
             [
              0.5555555555555556,
              "#d8576b"
             ],
             [
              0.6666666666666666,
              "#ed7953"
             ],
             [
              0.7777777777777778,
              "#fb9f3a"
             ],
             [
              0.8888888888888888,
              "#fdca26"
             ],
             [
              1.0,
              "#f0f921"
             ]
            ]
           }
          ],
          "heatmapgl": [
           {
            "type": "heatmapgl",
            "colorbar": {
             "outlinewidth": 0,
             "ticks": ""
            },
            "colorscale": [
             [
              0.0,
              "#0d0887"
             ],
             [
              0.1111111111111111,
              "#46039f"
             ],
             [
              0.2222222222222222,
              "#7201a8"
             ],
             [
              0.3333333333333333,
              "#9c179e"
             ],
             [
              0.4444444444444444,
              "#bd3786"
             ],
             [
              0.5555555555555556,
              "#d8576b"
             ],
             [
              0.6666666666666666,
              "#ed7953"
             ],
             [
              0.7777777777777778,
              "#fb9f3a"
             ],
             [
              0.8888888888888888,
              "#fdca26"
             ],
             [
              1.0,
              "#f0f921"
             ]
            ]
           }
          ],
          "contourcarpet": [
           {
            "type": "contourcarpet",
            "colorbar": {
             "outlinewidth": 0,
             "ticks": ""
            }
           }
          ],
          "contour": [
           {
            "type": "contour",
            "colorbar": {
             "outlinewidth": 0,
             "ticks": ""
            },
            "colorscale": [
             [
              0.0,
              "#0d0887"
             ],
             [
              0.1111111111111111,
              "#46039f"
             ],
             [
              0.2222222222222222,
              "#7201a8"
             ],
             [
              0.3333333333333333,
              "#9c179e"
             ],
             [
              0.4444444444444444,
              "#bd3786"
             ],
             [
              0.5555555555555556,
              "#d8576b"
             ],
             [
              0.6666666666666666,
              "#ed7953"
             ],
             [
              0.7777777777777778,
              "#fb9f3a"
             ],
             [
              0.8888888888888888,
              "#fdca26"
             ],
             [
              1.0,
              "#f0f921"
             ]
            ]
           }
          ],
          "surface": [
           {
            "type": "surface",
            "colorbar": {
             "outlinewidth": 0,
             "ticks": ""
            },
            "colorscale": [
             [
              0.0,
              "#0d0887"
             ],
             [
              0.1111111111111111,
              "#46039f"
             ],
             [
              0.2222222222222222,
              "#7201a8"
             ],
             [
              0.3333333333333333,
              "#9c179e"
             ],
             [
              0.4444444444444444,
              "#bd3786"
             ],
             [
              0.5555555555555556,
              "#d8576b"
             ],
             [
              0.6666666666666666,
              "#ed7953"
             ],
             [
              0.7777777777777778,
              "#fb9f3a"
             ],
             [
              0.8888888888888888,
              "#fdca26"
             ],
             [
              1.0,
              "#f0f921"
             ]
            ]
           }
          ],
          "mesh3d": [
           {
            "type": "mesh3d",
            "colorbar": {
             "outlinewidth": 0,
             "ticks": ""
            }
           }
          ],
          "scatter": [
           {
            "fillpattern": {
             "fillmode": "overlay",
             "size": 10,
             "solidity": 0.2
            },
            "type": "scatter"
           }
          ],
          "parcoords": [
           {
            "type": "parcoords",
            "line": {
             "colorbar": {
              "outlinewidth": 0,
              "ticks": ""
             }
            }
           }
          ],
          "scatterpolargl": [
           {
            "type": "scatterpolargl",
            "marker": {
             "colorbar": {
              "outlinewidth": 0,
              "ticks": ""
             }
            }
           }
          ],
          "bar": [
           {
            "error_x": {
             "color": "#2a3f5f"
            },
            "error_y": {
             "color": "#2a3f5f"
            },
            "marker": {
             "line": {
              "color": "#E5ECF6",
              "width": 0.5
             },
             "pattern": {
              "fillmode": "overlay",
              "size": 10,
              "solidity": 0.2
             }
            },
            "type": "bar"
           }
          ],
          "scattergeo": [
           {
            "type": "scattergeo",
            "marker": {
             "colorbar": {
              "outlinewidth": 0,
              "ticks": ""
             }
            }
           }
          ],
          "scatterpolar": [
           {
            "type": "scatterpolar",
            "marker": {
             "colorbar": {
              "outlinewidth": 0,
              "ticks": ""
             }
            }
           }
          ],
          "histogram": [
           {
            "marker": {
             "pattern": {
              "fillmode": "overlay",
              "size": 10,
              "solidity": 0.2
             }
            },
            "type": "histogram"
           }
          ],
          "scattergl": [
           {
            "type": "scattergl",
            "marker": {
             "colorbar": {
              "outlinewidth": 0,
              "ticks": ""
             }
            }
           }
          ],
          "scatter3d": [
           {
            "type": "scatter3d",
            "line": {
             "colorbar": {
              "outlinewidth": 0,
              "ticks": ""
             }
            },
            "marker": {
             "colorbar": {
              "outlinewidth": 0,
              "ticks": ""
             }
            }
           }
          ],
          "scattermapbox": [
           {
            "type": "scattermapbox",
            "marker": {
             "colorbar": {
              "outlinewidth": 0,
              "ticks": ""
             }
            }
           }
          ],
          "scatterternary": [
           {
            "type": "scatterternary",
            "marker": {
             "colorbar": {
              "outlinewidth": 0,
              "ticks": ""
             }
            }
           }
          ],
          "scattercarpet": [
           {
            "type": "scattercarpet",
            "marker": {
             "colorbar": {
              "outlinewidth": 0,
              "ticks": ""
             }
            }
           }
          ],
          "carpet": [
           {
            "aaxis": {
             "endlinecolor": "#2a3f5f",
             "gridcolor": "white",
             "linecolor": "white",
             "minorgridcolor": "white",
             "startlinecolor": "#2a3f5f"
            },
            "baxis": {
             "endlinecolor": "#2a3f5f",
             "gridcolor": "white",
             "linecolor": "white",
             "minorgridcolor": "white",
             "startlinecolor": "#2a3f5f"
            },
            "type": "carpet"
           }
          ],
          "table": [
           {
            "cells": {
             "fill": {
              "color": "#EBF0F8"
             },
             "line": {
              "color": "white"
             }
            },
            "header": {
             "fill": {
              "color": "#C8D4E3"
             },
             "line": {
              "color": "white"
             }
            },
            "type": "table"
           }
          ],
          "barpolar": [
           {
            "marker": {
             "line": {
              "color": "#E5ECF6",
              "width": 0.5
             },
             "pattern": {
              "fillmode": "overlay",
              "size": 10,
              "solidity": 0.2
             }
            },
            "type": "barpolar"
           }
          ],
          "pie": [
           {
            "automargin": true,
            "type": "pie"
           }
          ]
         },
         "layout": {
          "autotypenumbers": "strict",
          "colorway": [
           "#636efa",
           "#EF553B",
           "#00cc96",
           "#ab63fa",
           "#FFA15A",
           "#19d3f3",
           "#FF6692",
           "#B6E880",
           "#FF97FF",
           "#FECB52"
          ],
          "font": {
           "color": "#2a3f5f"
          },
          "hovermode": "closest",
          "hoverlabel": {
           "align": "left"
          },
          "paper_bgcolor": "white",
          "plot_bgcolor": "#E5ECF6",
          "polar": {
           "bgcolor": "#E5ECF6",
           "angularaxis": {
            "gridcolor": "white",
            "linecolor": "white",
            "ticks": ""
           },
           "radialaxis": {
            "gridcolor": "white",
            "linecolor": "white",
            "ticks": ""
           }
          },
          "ternary": {
           "bgcolor": "#E5ECF6",
           "aaxis": {
            "gridcolor": "white",
            "linecolor": "white",
            "ticks": ""
           },
           "baxis": {
            "gridcolor": "white",
            "linecolor": "white",
            "ticks": ""
           },
           "caxis": {
            "gridcolor": "white",
            "linecolor": "white",
            "ticks": ""
           }
          },
          "coloraxis": {
           "colorbar": {
            "outlinewidth": 0,
            "ticks": ""
           }
          },
          "colorscale": {
           "sequential": [
            [
             0.0,
             "#0d0887"
            ],
            [
             0.1111111111111111,
             "#46039f"
            ],
            [
             0.2222222222222222,
             "#7201a8"
            ],
            [
             0.3333333333333333,
             "#9c179e"
            ],
            [
             0.4444444444444444,
             "#bd3786"
            ],
            [
             0.5555555555555556,
             "#d8576b"
            ],
            [
             0.6666666666666666,
             "#ed7953"
            ],
            [
             0.7777777777777778,
             "#fb9f3a"
            ],
            [
             0.8888888888888888,
             "#fdca26"
            ],
            [
             1.0,
             "#f0f921"
            ]
           ],
           "sequentialminus": [
            [
             0.0,
             "#0d0887"
            ],
            [
             0.1111111111111111,
             "#46039f"
            ],
            [
             0.2222222222222222,
             "#7201a8"
            ],
            [
             0.3333333333333333,
             "#9c179e"
            ],
            [
             0.4444444444444444,
             "#bd3786"
            ],
            [
             0.5555555555555556,
             "#d8576b"
            ],
            [
             0.6666666666666666,
             "#ed7953"
            ],
            [
             0.7777777777777778,
             "#fb9f3a"
            ],
            [
             0.8888888888888888,
             "#fdca26"
            ],
            [
             1.0,
             "#f0f921"
            ]
           ],
           "diverging": [
            [
             0,
             "#8e0152"
            ],
            [
             0.1,
             "#c51b7d"
            ],
            [
             0.2,
             "#de77ae"
            ],
            [
             0.3,
             "#f1b6da"
            ],
            [
             0.4,
             "#fde0ef"
            ],
            [
             0.5,
             "#f7f7f7"
            ],
            [
             0.6,
             "#e6f5d0"
            ],
            [
             0.7,
             "#b8e186"
            ],
            [
             0.8,
             "#7fbc41"
            ],
            [
             0.9,
             "#4d9221"
            ],
            [
             1,
             "#276419"
            ]
           ]
          },
          "xaxis": {
           "gridcolor": "white",
           "linecolor": "white",
           "ticks": "",
           "title": {
            "standoff": 15
           },
           "zerolinecolor": "white",
           "automargin": true,
           "zerolinewidth": 2
          },
          "yaxis": {
           "gridcolor": "white",
           "linecolor": "white",
           "ticks": "",
           "title": {
            "standoff": 15
           },
           "zerolinecolor": "white",
           "automargin": true,
           "zerolinewidth": 2
          },
          "scene": {
           "xaxis": {
            "backgroundcolor": "#E5ECF6",
            "gridcolor": "white",
            "linecolor": "white",
            "showbackground": true,
            "ticks": "",
            "zerolinecolor": "white",
            "gridwidth": 2
           },
           "yaxis": {
            "backgroundcolor": "#E5ECF6",
            "gridcolor": "white",
            "linecolor": "white",
            "showbackground": true,
            "ticks": "",
            "zerolinecolor": "white",
            "gridwidth": 2
           },
           "zaxis": {
            "backgroundcolor": "#E5ECF6",
            "gridcolor": "white",
            "linecolor": "white",
            "showbackground": true,
            "ticks": "",
            "zerolinecolor": "white",
            "gridwidth": 2
           }
          },
          "shapedefaults": {
           "line": {
            "color": "#2a3f5f"
           }
          },
          "annotationdefaults": {
           "arrowcolor": "#2a3f5f",
           "arrowhead": 0,
           "arrowwidth": 1
          },
          "geo": {
           "bgcolor": "white",
           "landcolor": "#E5ECF6",
           "subunitcolor": "white",
           "showland": true,
           "showlakes": true,
           "lakecolor": "white"
          },
          "title": {
           "x": 0.05
          },
          "mapbox": {
           "style": "light"
          }
         }
        },
        "title": {
         "text": "39 ICD Phenotypes to 17 Features Used for Clustering"
        },
        "font": {
         "size": 12
        },
        "width": 900,
        "height": 600
       },
       "config": {
        "plotlyServerURL": "https://plot.ly"
       }
      },
      "text/html": "<div>                            <div id=\"42e47b97-6abe-43cf-b081-63944ce0f2b2\" class=\"plotly-graph-div\" style=\"height:600px; width:900px;\"></div>            <script type=\"text/javascript\">                require([\"plotly\"], function(Plotly) {                    window.PLOTLYENV=window.PLOTLYENV || {};                                    if (document.getElementById(\"42e47b97-6abe-43cf-b081-63944ce0f2b2\")) {                    Plotly.newPlot(                        \"42e47b97-6abe-43cf-b081-63944ce0f2b2\",                        [{\"link\":{\"color\":[\"rgba(100,100,100,0.6)\",\"rgba(0,255,0,0.6)\",\"rgba(0,255,0,0.6)\",\"rgba(0,255,0,0.6)\",\"rgba(100,100,100,0.6)\",\"rgba(100,100,100,0.6)\",\"rgba(100,100,100,0.6)\",\"rgba(0,255,0,0.6)\",\"rgba(0,255,0,0.6)\",\"rgba(0,255,0,0.6)\",\"rgba(100,100,100,0.6)\"],\"label\":[9,8,8,14,0,6,7,8,2,7,9],\"source\":[0,0,0,0,2,3,4,2,3,4,1],\"target\":[1,2,3,4,5,5,5,6,6,6,7],\"value\":[9,8,8,14,0,6,7,8,2,7,9]},\"node\":{\"color\":[\"rgba(100,100,100,0.6)\",\"rgba(100,100,100,0.6)\",\"rgba(100,100,100,0.6)\",\"rgba(100,100,100,0.6)\",\"rgba(100,100,100,0.6)\",\"rgba(100,100,100,0.6)\",\"rgba(0,255,0,0.6)\",\"rgba(100,100,100,0.6)\"],\"label\":[\"ICD-Extracted Features (39)\",\"Endometriosis ICD Subtypes (9)\",\"Symptoms (8)\",\"Pregnancy-Related (8)\",\"Comorbidities (14)\",\"Too Rare: \\u003c5% (13)\",\"Non-Rare: \\u003e5% (17)\",\"\"],\"line\":{\"color\":\"black\",\"width\":0.5},\"pad\":15,\"thickness\":20},\"type\":\"sankey\"}],                        {\"template\":{\"data\":{\"histogram2dcontour\":[{\"type\":\"histogram2dcontour\",\"colorbar\":{\"outlinewidth\":0,\"ticks\":\"\"},\"colorscale\":[[0.0,\"#0d0887\"],[0.1111111111111111,\"#46039f\"],[0.2222222222222222,\"#7201a8\"],[0.3333333333333333,\"#9c179e\"],[0.4444444444444444,\"#bd3786\"],[0.5555555555555556,\"#d8576b\"],[0.6666666666666666,\"#ed7953\"],[0.7777777777777778,\"#fb9f3a\"],[0.8888888888888888,\"#fdca26\"],[1.0,\"#f0f921\"]]}],\"choropleth\":[{\"type\":\"choropleth\",\"colorbar\":{\"outlinewidth\":0,\"ticks\":\"\"}}],\"histogram2d\":[{\"type\":\"histogram2d\",\"colorbar\":{\"outlinewidth\":0,\"ticks\":\"\"},\"colorscale\":[[0.0,\"#0d0887\"],[0.1111111111111111,\"#46039f\"],[0.2222222222222222,\"#7201a8\"],[0.3333333333333333,\"#9c179e\"],[0.4444444444444444,\"#bd3786\"],[0.5555555555555556,\"#d8576b\"],[0.6666666666666666,\"#ed7953\"],[0.7777777777777778,\"#fb9f3a\"],[0.8888888888888888,\"#fdca26\"],[1.0,\"#f0f921\"]]}],\"heatmap\":[{\"type\":\"heatmap\",\"colorbar\":{\"outlinewidth\":0,\"ticks\":\"\"},\"colorscale\":[[0.0,\"#0d0887\"],[0.1111111111111111,\"#46039f\"],[0.2222222222222222,\"#7201a8\"],[0.3333333333333333,\"#9c179e\"],[0.4444444444444444,\"#bd3786\"],[0.5555555555555556,\"#d8576b\"],[0.6666666666666666,\"#ed7953\"],[0.7777777777777778,\"#fb9f3a\"],[0.8888888888888888,\"#fdca26\"],[1.0,\"#f0f921\"]]}],\"heatmapgl\":[{\"type\":\"heatmapgl\",\"colorbar\":{\"outlinewidth\":0,\"ticks\":\"\"},\"colorscale\":[[0.0,\"#0d0887\"],[0.1111111111111111,\"#46039f\"],[0.2222222222222222,\"#7201a8\"],[0.3333333333333333,\"#9c179e\"],[0.4444444444444444,\"#bd3786\"],[0.5555555555555556,\"#d8576b\"],[0.6666666666666666,\"#ed7953\"],[0.7777777777777778,\"#fb9f3a\"],[0.8888888888888888,\"#fdca26\"],[1.0,\"#f0f921\"]]}],\"contourcarpet\":[{\"type\":\"contourcarpet\",\"colorbar\":{\"outlinewidth\":0,\"ticks\":\"\"}}],\"contour\":[{\"type\":\"contour\",\"colorbar\":{\"outlinewidth\":0,\"ticks\":\"\"},\"colorscale\":[[0.0,\"#0d0887\"],[0.1111111111111111,\"#46039f\"],[0.2222222222222222,\"#7201a8\"],[0.3333333333333333,\"#9c179e\"],[0.4444444444444444,\"#bd3786\"],[0.5555555555555556,\"#d8576b\"],[0.6666666666666666,\"#ed7953\"],[0.7777777777777778,\"#fb9f3a\"],[0.8888888888888888,\"#fdca26\"],[1.0,\"#f0f921\"]]}],\"surface\":[{\"type\":\"surface\",\"colorbar\":{\"outlinewidth\":0,\"ticks\":\"\"},\"colorscale\":[[0.0,\"#0d0887\"],[0.1111111111111111,\"#46039f\"],[0.2222222222222222,\"#7201a8\"],[0.3333333333333333,\"#9c179e\"],[0.4444444444444444,\"#bd3786\"],[0.5555555555555556,\"#d8576b\"],[0.6666666666666666,\"#ed7953\"],[0.7777777777777778,\"#fb9f3a\"],[0.8888888888888888,\"#fdca26\"],[1.0,\"#f0f921\"]]}],\"mesh3d\":[{\"type\":\"mesh3d\",\"colorbar\":{\"outlinewidth\":0,\"ticks\":\"\"}}],\"scatter\":[{\"fillpattern\":{\"fillmode\":\"overlay\",\"size\":10,\"solidity\":0.2},\"type\":\"scatter\"}],\"parcoords\":[{\"type\":\"parcoords\",\"line\":{\"colorbar\":{\"outlinewidth\":0,\"ticks\":\"\"}}}],\"scatterpolargl\":[{\"type\":\"scatterpolargl\",\"marker\":{\"colorbar\":{\"outlinewidth\":0,\"ticks\":\"\"}}}],\"bar\":[{\"error_x\":{\"color\":\"#2a3f5f\"},\"error_y\":{\"color\":\"#2a3f5f\"},\"marker\":{\"line\":{\"color\":\"#E5ECF6\",\"width\":0.5},\"pattern\":{\"fillmode\":\"overlay\",\"size\":10,\"solidity\":0.2}},\"type\":\"bar\"}],\"scattergeo\":[{\"type\":\"scattergeo\",\"marker\":{\"colorbar\":{\"outlinewidth\":0,\"ticks\":\"\"}}}],\"scatterpolar\":[{\"type\":\"scatterpolar\",\"marker\":{\"colorbar\":{\"outlinewidth\":0,\"ticks\":\"\"}}}],\"histogram\":[{\"marker\":{\"pattern\":{\"fillmode\":\"overlay\",\"size\":10,\"solidity\":0.2}},\"type\":\"histogram\"}],\"scattergl\":[{\"type\":\"scattergl\",\"marker\":{\"colorbar\":{\"outlinewidth\":0,\"ticks\":\"\"}}}],\"scatter3d\":[{\"type\":\"scatter3d\",\"line\":{\"colorbar\":{\"outlinewidth\":0,\"ticks\":\"\"}},\"marker\":{\"colorbar\":{\"outlinewidth\":0,\"ticks\":\"\"}}}],\"scattermapbox\":[{\"type\":\"scattermapbox\",\"marker\":{\"colorbar\":{\"outlinewidth\":0,\"ticks\":\"\"}}}],\"scatterternary\":[{\"type\":\"scatterternary\",\"marker\":{\"colorbar\":{\"outlinewidth\":0,\"ticks\":\"\"}}}],\"scattercarpet\":[{\"type\":\"scattercarpet\",\"marker\":{\"colorbar\":{\"outlinewidth\":0,\"ticks\":\"\"}}}],\"carpet\":[{\"aaxis\":{\"endlinecolor\":\"#2a3f5f\",\"gridcolor\":\"white\",\"linecolor\":\"white\",\"minorgridcolor\":\"white\",\"startlinecolor\":\"#2a3f5f\"},\"baxis\":{\"endlinecolor\":\"#2a3f5f\",\"gridcolor\":\"white\",\"linecolor\":\"white\",\"minorgridcolor\":\"white\",\"startlinecolor\":\"#2a3f5f\"},\"type\":\"carpet\"}],\"table\":[{\"cells\":{\"fill\":{\"color\":\"#EBF0F8\"},\"line\":{\"color\":\"white\"}},\"header\":{\"fill\":{\"color\":\"#C8D4E3\"},\"line\":{\"color\":\"white\"}},\"type\":\"table\"}],\"barpolar\":[{\"marker\":{\"line\":{\"color\":\"#E5ECF6\",\"width\":0.5},\"pattern\":{\"fillmode\":\"overlay\",\"size\":10,\"solidity\":0.2}},\"type\":\"barpolar\"}],\"pie\":[{\"automargin\":true,\"type\":\"pie\"}]},\"layout\":{\"autotypenumbers\":\"strict\",\"colorway\":[\"#636efa\",\"#EF553B\",\"#00cc96\",\"#ab63fa\",\"#FFA15A\",\"#19d3f3\",\"#FF6692\",\"#B6E880\",\"#FF97FF\",\"#FECB52\"],\"font\":{\"color\":\"#2a3f5f\"},\"hovermode\":\"closest\",\"hoverlabel\":{\"align\":\"left\"},\"paper_bgcolor\":\"white\",\"plot_bgcolor\":\"#E5ECF6\",\"polar\":{\"bgcolor\":\"#E5ECF6\",\"angularaxis\":{\"gridcolor\":\"white\",\"linecolor\":\"white\",\"ticks\":\"\"},\"radialaxis\":{\"gridcolor\":\"white\",\"linecolor\":\"white\",\"ticks\":\"\"}},\"ternary\":{\"bgcolor\":\"#E5ECF6\",\"aaxis\":{\"gridcolor\":\"white\",\"linecolor\":\"white\",\"ticks\":\"\"},\"baxis\":{\"gridcolor\":\"white\",\"linecolor\":\"white\",\"ticks\":\"\"},\"caxis\":{\"gridcolor\":\"white\",\"linecolor\":\"white\",\"ticks\":\"\"}},\"coloraxis\":{\"colorbar\":{\"outlinewidth\":0,\"ticks\":\"\"}},\"colorscale\":{\"sequential\":[[0.0,\"#0d0887\"],[0.1111111111111111,\"#46039f\"],[0.2222222222222222,\"#7201a8\"],[0.3333333333333333,\"#9c179e\"],[0.4444444444444444,\"#bd3786\"],[0.5555555555555556,\"#d8576b\"],[0.6666666666666666,\"#ed7953\"],[0.7777777777777778,\"#fb9f3a\"],[0.8888888888888888,\"#fdca26\"],[1.0,\"#f0f921\"]],\"sequentialminus\":[[0.0,\"#0d0887\"],[0.1111111111111111,\"#46039f\"],[0.2222222222222222,\"#7201a8\"],[0.3333333333333333,\"#9c179e\"],[0.4444444444444444,\"#bd3786\"],[0.5555555555555556,\"#d8576b\"],[0.6666666666666666,\"#ed7953\"],[0.7777777777777778,\"#fb9f3a\"],[0.8888888888888888,\"#fdca26\"],[1.0,\"#f0f921\"]],\"diverging\":[[0,\"#8e0152\"],[0.1,\"#c51b7d\"],[0.2,\"#de77ae\"],[0.3,\"#f1b6da\"],[0.4,\"#fde0ef\"],[0.5,\"#f7f7f7\"],[0.6,\"#e6f5d0\"],[0.7,\"#b8e186\"],[0.8,\"#7fbc41\"],[0.9,\"#4d9221\"],[1,\"#276419\"]]},\"xaxis\":{\"gridcolor\":\"white\",\"linecolor\":\"white\",\"ticks\":\"\",\"title\":{\"standoff\":15},\"zerolinecolor\":\"white\",\"automargin\":true,\"zerolinewidth\":2},\"yaxis\":{\"gridcolor\":\"white\",\"linecolor\":\"white\",\"ticks\":\"\",\"title\":{\"standoff\":15},\"zerolinecolor\":\"white\",\"automargin\":true,\"zerolinewidth\":2},\"scene\":{\"xaxis\":{\"backgroundcolor\":\"#E5ECF6\",\"gridcolor\":\"white\",\"linecolor\":\"white\",\"showbackground\":true,\"ticks\":\"\",\"zerolinecolor\":\"white\",\"gridwidth\":2},\"yaxis\":{\"backgroundcolor\":\"#E5ECF6\",\"gridcolor\":\"white\",\"linecolor\":\"white\",\"showbackground\":true,\"ticks\":\"\",\"zerolinecolor\":\"white\",\"gridwidth\":2},\"zaxis\":{\"backgroundcolor\":\"#E5ECF6\",\"gridcolor\":\"white\",\"linecolor\":\"white\",\"showbackground\":true,\"ticks\":\"\",\"zerolinecolor\":\"white\",\"gridwidth\":2}},\"shapedefaults\":{\"line\":{\"color\":\"#2a3f5f\"}},\"annotationdefaults\":{\"arrowcolor\":\"#2a3f5f\",\"arrowhead\":0,\"arrowwidth\":1},\"geo\":{\"bgcolor\":\"white\",\"landcolor\":\"#E5ECF6\",\"subunitcolor\":\"white\",\"showland\":true,\"showlakes\":true,\"lakecolor\":\"white\"},\"title\":{\"x\":0.05},\"mapbox\":{\"style\":\"light\"}}},\"title\":{\"text\":\"39 ICD Phenotypes to 17 Features Used for Clustering\"},\"font\":{\"size\":12},\"width\":900,\"height\":600},                        {\"responsive\": true}                    ).then(function(){\n                            \nvar gd = document.getElementById('42e47b97-6abe-43cf-b081-63944ce0f2b2');\nvar x = new MutationObserver(function (mutations, observer) {{\n        var display = window.getComputedStyle(gd).display;\n        if (!display || display === 'none') {{\n            console.log([gd, 'removed!']);\n            Plotly.purge(gd);\n            observer.disconnect();\n        }}\n}});\n\n// Listen for the removal of the full notebook cells\nvar notebookContainer = gd.closest('#notebook-container');\nif (notebookContainer) {{\n    x.observe(notebookContainer, {childList: true});\n}}\n\n// Listen for the clearing of the current output cell\nvar outputEl = gd.closest('.output');\nif (outputEl) {{\n    x.observe(outputEl, {childList: true});\n}}\n\n                        })                };                });            </script>        </div>"
     },
     "metadata": {},
     "output_type": "display_data"
    }
   ],
   "source": [
    "import plotly.graph_objects as go\n",
    "import kaleido\n",
    "\n",
    "plot_df = covDF.loc[cases]\n",
    "\n",
    "link_values = [len(endo_icd_subtypes), len(symptoms), len(pregnancy_related), len(comorbidities),\n",
    "               len([c for c in symptoms if plot_df[c].mean() < 0.05]),\n",
    "               len([c for c in pregnancy_related if plot_df[c].mean() < 0.05]),\n",
    "               len([c for c in comorbidities if plot_df[c].mean() < 0.05]),\n",
    "               len([c for c in symptoms if plot_df[c].mean() >= 0.05]),\n",
    "               len([c for c in pregnancy_related if plot_df[c].mean() >= 0.05]),\n",
    "               len([c for c in comorbidities if plot_df[c].mean() >= 0.05]),\n",
    "               len(endo_icd_subtypes)]\n",
    "\n",
    "red = 'rgba(255,0,0,0.6)'\n",
    "green = 'rgba(0,255,0,0.6)'\n",
    "blue = 'rgba(0,0,255,0.6)'\n",
    "gray = 'rgba(100,100,100,0.6)'\n",
    "\n",
    "fig = go.Figure(data=[\n",
    "    go.Sankey(\n",
    "        node = dict(\n",
    "            pad = 15,\n",
    "            thickness = 20,\n",
    "            line = dict(color = \"black\", width = 0.5),\n",
    "            label = [f\"ICD-Extracted Features ({len(all_binary_cols) - len(long_term_outcomes)})\",\n",
    "                     f\"Endometriosis ICD Subtypes ({len(endo_icd_subtypes)})\",\n",
    "                     f\"Symptoms ({len(symptoms)})\",\n",
    "                     f\"Pregnancy-Related ({len(pregnancy_related)})\",\n",
    "                     f\"Comorbidities ({len(comorbidities)})\",\n",
    "                     f\"Too Rare: <5% (13)\", \"Non-Rare: >5% (17)\", \"\"],\n",
    "            color = [gray,\n",
    "                     gray, gray, gray, gray,\n",
    "                     gray, green, gray]\n",
    "        ),\n",
    "        link = dict(\n",
    "            source = [0, 0, 0, 0, 2, 3, 4, 2, 3, 4, 1],\n",
    "            target = [1, 2, 3, 4, 5, 5, 5, 6, 6, 6, 7],\n",
    "            value = link_values,\n",
    "            label = link_values,\n",
    "            color = [gray,\n",
    "                     green, green, green,\n",
    "                     gray, gray, gray,\n",
    "                     green, green, green,\n",
    "                     gray]\n",
    "        )\n",
    "    )\n",
    "])\n",
    "\n",
    "fig.update_layout(title_text=\"39 ICD Phenotypes to 17 Features Used for Clustering\", font_size=12, width=900, height=600)\n",
    "fig.write_image('../Manuscript_Plots/supp_figure_1_ICD_Sankey.png')\n",
    "fig.show()"
   ],
   "metadata": {
    "collapsed": false,
    "pycharm": {
     "name": "#%%\n"
    }
   }
  },
  {
   "cell_type": "code",
   "execution_count": 69,
   "outputs": [
    {
     "data": {
      "text/plain": "{'N80.*': ['N80.0',\n  'N80.1',\n  'N80.2',\n  'N80.3',\n  'N80.4',\n  'N80.5',\n  'N80.6',\n  'N80.8',\n  'N80.9'],\n '617.*': ['617.0',\n  '617.1',\n  '617.2',\n  '617.3',\n  '617.4',\n  '617.5',\n  '617.6',\n  '617.8',\n  '617.9'],\n 'N80.0': ['N80.0'],\n '617.0': ['617.0'],\n 'N80.03': [],\n '617.03': [],\n 'N80.1': ['N80.1'],\n '617.1': ['617.1'],\n 'N80.2': ['N80.2'],\n '617.2': ['617.2'],\n 'N80.3': ['N80.3'],\n '617.3': ['617.3'],\n 'N80.4': ['N80.4'],\n '617.4': ['617.4'],\n 'N80.5': ['N80.5'],\n '617.5': ['617.5'],\n 'N80.6': ['N80.6'],\n '617.6': ['617.6'],\n 'N80.8': ['N80.8'],\n '617.8': ['617.8'],\n 'N80.9': ['N80.9'],\n '617.9': ['617.9'],\n 'C50': ['C50.011',\n  'C50.012',\n  'C50.019',\n  'C50.021',\n  'C50.022',\n  'C50.029',\n  'C50.111',\n  'C50.112',\n  'C50.119',\n  'C50.121',\n  'C50.122',\n  'C50.129',\n  'C50.211',\n  'C50.212',\n  'C50.219',\n  'C50.221',\n  'C50.222',\n  'C50.229',\n  'C50.311',\n  'C50.312',\n  'C50.319',\n  'C50.321',\n  'C50.322',\n  'C50.411',\n  'C50.412',\n  'C50.419',\n  'C50.421',\n  'C50.422',\n  'C50.511',\n  'C50.512',\n  'C50.519',\n  'C50.521',\n  'C50.529',\n  'C50.611',\n  'C50.612',\n  'C50.619',\n  'C50.621',\n  'C50.622',\n  'C50.811',\n  'C50.812',\n  'C50.819',\n  'C50.821',\n  'C50.822',\n  'C50.829',\n  'C50.911',\n  'C50.912',\n  'C50.919',\n  'C50.921',\n  'C50.922',\n  'C50.929'],\n '174': ['174',\n  '174.0',\n  '174.1',\n  '174.2',\n  '174.3',\n  '174.4',\n  '174.5',\n  '174.6',\n  '174.8',\n  '174.9'],\n 'C53': ['C53.0', 'C53.1', 'C53.8', 'C53.9'],\n '180': ['180', '180.0', '180.1', '180.8', '180.9'],\n 'C56': ['C56.1', 'C56.2', 'C56.3', 'C56.9'],\n '183.0': ['183.0'],\n 'C55': ['C55'],\n '182': ['182', '182.0', '182.1', '182.8'],\n 'C85': ['C85.10',\n  'C85.11',\n  'C85.12',\n  'C85.13',\n  'C85.14',\n  'C85.15',\n  'C85.16',\n  'C85.17',\n  'C85.18',\n  'C85.19',\n  'C85.20',\n  'C85.21',\n  'C85.22',\n  'C85.24',\n  'C85.28',\n  'C85.29',\n  'C85.80',\n  'C85.81',\n  'C85.82',\n  'C85.83',\n  'C85.84',\n  'C85.85',\n  'C85.86',\n  'C85.87',\n  'C85.88',\n  'C85.89',\n  'C85.90',\n  'C85.91',\n  'C85.92',\n  'C85.93',\n  'C85.94',\n  'C85.95',\n  'C85.96',\n  'C85.97',\n  'C85.98',\n  'C85.99'],\n 'C43': ['C43.0',\n  'C43.10',\n  'C43.11',\n  'C43.111',\n  'C43.112',\n  'C43.12',\n  'C43.121',\n  'C43.122',\n  'C43.20',\n  'C43.21',\n  'C43.22',\n  'C43.30',\n  'C43.31',\n  'C43.39',\n  'C43.4',\n  'C43.51',\n  'C43.52',\n  'C43.59',\n  'C43.60',\n  'C43.61',\n  'C43.62',\n  'C43.70',\n  'C43.71',\n  'C43.72',\n  'C43.8',\n  'C43.9'],\n '172': ['172',\n  '172.0',\n  '172.1',\n  '172.2',\n  '172.3',\n  '172.4',\n  '172.5',\n  '172.6',\n  '172.7',\n  '172.8',\n  '172.9'],\n 'C73': ['C73'],\n '193': ['193'],\n 'D25': ['D25.0', 'D25.1', 'D25.2', 'D25.9'],\n '218': ['218', '218.0', '218.1', '218.2', '218.9'],\n 'E28.2': ['E28.2'],\n '256.4': ['256.4'],\n '628.0': ['628.0'],\n 'E11': ['E11.00',\n  'E11.01',\n  'E11.10',\n  'E11.11',\n  'E11.21',\n  'E11.22',\n  'E11.29',\n  'E11.311',\n  'E11.319',\n  'E11.321',\n  'E11.3211',\n  'E11.3212',\n  'E11.3213',\n  'E11.3219',\n  'E11.329',\n  'E11.3291',\n  'E11.3292',\n  'E11.3293',\n  'E11.3299',\n  'E11.331',\n  'E11.3311',\n  'E11.3312',\n  'E11.3313',\n  'E11.3319',\n  'E11.339',\n  'E11.3391',\n  'E11.3392',\n  'E11.3393',\n  'E11.3399',\n  'E11.341',\n  'E11.3411',\n  'E11.3412',\n  'E11.3413',\n  'E11.3419',\n  'E11.349',\n  'E11.3491',\n  'E11.3492',\n  'E11.3493',\n  'E11.3499',\n  'E11.351',\n  'E11.3511',\n  'E11.3512',\n  'E11.3513',\n  'E11.3519',\n  'E11.3521',\n  'E11.3522',\n  'E11.3523',\n  'E11.3531',\n  'E11.3532',\n  'E11.3533',\n  'E11.3539',\n  'E11.3541',\n  'E11.3542',\n  'E11.3551',\n  'E11.3552',\n  'E11.3553',\n  'E11.3559',\n  'E11.359',\n  'E11.3591',\n  'E11.3592',\n  'E11.3593',\n  'E11.3599',\n  'E11.36',\n  'E11.37X1',\n  'E11.37X2',\n  'E11.37X3',\n  'E11.37X9',\n  'E11.39',\n  'E11.40',\n  'E11.41',\n  'E11.42',\n  'E11.43',\n  'E11.44',\n  'E11.49',\n  'E11.51',\n  'E11.52',\n  'E11.59',\n  'E11.610',\n  'E11.618',\n  'E11.620',\n  'E11.621',\n  'E11.622',\n  'E11.628',\n  'E11.630',\n  'E11.638',\n  'E11.641',\n  'E11.649',\n  'E11.65',\n  'E11.69',\n  'E11.8',\n  'E11.9'],\n 'E78': ['E78.0',\n  'E78.00',\n  'E78.01',\n  'E78.1',\n  'E78.2',\n  'E78.3',\n  'E78.4',\n  'E78.41',\n  'E78.49',\n  'E78.5',\n  'E78.6',\n  'E78.70',\n  'E78.71',\n  'E78.72',\n  'E78.79',\n  'E78.81',\n  'E78.89',\n  'E78.9'],\n '272': ['272',\n  '272.0',\n  '272.1',\n  '272.2',\n  '272.3',\n  '272.4',\n  '272.5',\n  '272.6',\n  '272.7',\n  '272.8',\n  '272.9'],\n 'I10': ['I10'],\n '401': ['401', '401.0', '401.1', '401.9'],\n 'I21': ['I21.01',\n  'I21.02',\n  'I21.09',\n  'I21.11',\n  'I21.19',\n  'I21.21',\n  'I21.29',\n  'I21.3',\n  'I21.4',\n  'I21.9',\n  'I21.A1',\n  'I21.A9'],\n '410': ['410',\n  '410.0',\n  '410.00',\n  '410.01',\n  '410.02',\n  '410.1',\n  '410.10',\n  '410.11',\n  '410.12',\n  '410.2',\n  '410.20',\n  '410.21',\n  '410.22',\n  '410.30',\n  '410.31',\n  '410.32',\n  '410.4',\n  '410.40',\n  '410.41',\n  '410.42',\n  '410.5',\n  '410.50',\n  '410.51',\n  '410.52',\n  '410.60',\n  '410.61',\n  '410.62',\n  '410.7',\n  '410.70',\n  '410.71',\n  '410.72',\n  '410.8',\n  '410.80',\n  '410.81',\n  '410.82',\n  '410.9',\n  '410.90',\n  '410.91',\n  '410.92'],\n 'I24': ['I24.0', 'I24.1', 'I24.8', 'I24.9'],\n '411': ['411.0', '411.1', '411.81', '411.89'],\n 'I25': ['I25.10',\n  'I25.110',\n  'I25.111',\n  'I25.118',\n  'I25.119',\n  'I25.2',\n  'I25.3',\n  'I25.41',\n  'I25.42',\n  'I25.5',\n  'I25.6',\n  'I25.700',\n  'I25.701',\n  'I25.708',\n  'I25.709',\n  'I25.710',\n  'I25.711',\n  'I25.718',\n  'I25.719',\n  'I25.720',\n  'I25.721',\n  'I25.728',\n  'I25.729',\n  'I25.750',\n  'I25.751',\n  'I25.758',\n  'I25.759',\n  'I25.760',\n  'I25.768',\n  'I25.769',\n  'I25.790',\n  'I25.791',\n  'I25.798',\n  'I25.799',\n  'I25.810',\n  'I25.811',\n  'I25.812',\n  'I25.82',\n  'I25.83',\n  'I25.84',\n  'I25.89',\n  'I25.9'],\n '414': ['414.0',\n  '414.00',\n  '414.01',\n  '414.02',\n  '414.03',\n  '414.04',\n  '414.05',\n  '414.06',\n  '414.07',\n  '414.1',\n  '414.10',\n  '414.11',\n  '414.12',\n  '414.19',\n  '414.2',\n  '414.3',\n  '414.4',\n  '414.8',\n  '414.9'],\n 'I63': ['I63.00',\n  'I63.011',\n  'I63.012',\n  'I63.013',\n  'I63.019',\n  'I63.02',\n  'I63.031',\n  'I63.032',\n  'I63.033',\n  'I63.039',\n  'I63.09',\n  'I63.10',\n  'I63.111',\n  'I63.112',\n  'I63.113',\n  'I63.119',\n  'I63.12',\n  'I63.131',\n  'I63.132',\n  'I63.133',\n  'I63.139',\n  'I63.19',\n  'I63.20',\n  'I63.211',\n  'I63.212',\n  'I63.213',\n  'I63.219',\n  'I63.22',\n  'I63.231',\n  'I63.232',\n  'I63.233',\n  'I63.239',\n  'I63.29',\n  'I63.30',\n  'I63.311',\n  'I63.312',\n  'I63.313',\n  'I63.319',\n  'I63.321',\n  'I63.322',\n  'I63.323',\n  'I63.329',\n  'I63.331',\n  'I63.332',\n  'I63.333',\n  'I63.339',\n  'I63.341',\n  'I63.342',\n  'I63.343',\n  'I63.349',\n  'I63.39',\n  'I63.40',\n  'I63.411',\n  'I63.412',\n  'I63.413',\n  'I63.419',\n  'I63.421',\n  'I63.422',\n  'I63.423',\n  'I63.429',\n  'I63.431',\n  'I63.432',\n  'I63.433',\n  'I63.439',\n  'I63.441',\n  'I63.442',\n  'I63.443',\n  'I63.449',\n  'I63.49',\n  'I63.50',\n  'I63.511',\n  'I63.512',\n  'I63.513',\n  'I63.519',\n  'I63.521',\n  'I63.522',\n  'I63.523',\n  'I63.529',\n  'I63.531',\n  'I63.532',\n  'I63.533',\n  'I63.539',\n  'I63.541',\n  'I63.542',\n  'I63.543',\n  'I63.549',\n  'I63.59',\n  'I63.6',\n  'I63.8',\n  'I63.81',\n  'I63.89',\n  'I63.9'],\n '434.*1': ['434.01', '434.11', '434.91'],\n 'N73.4': ['N73.4'],\n '614.7': ['614.7'],\n 'N94.4': ['N94.4'],\n 'N94.5': ['N94.5'],\n 'N94.6': ['N94.6'],\n '625.3': ['625.3'],\n 'N94.1': ['N94.1', 'N94.10', 'N94.11', 'N94.12', 'N94.19'],\n '625.0': ['625.0'],\n 'N97.': ['N97.0', 'N97.1', 'N97.2', 'N97.8', 'N97.9'],\n '628': ['628', '628.0', '628.1', '628.2', '628.3', '628.4', '628.8', '628.9'],\n 'N96.': [],\n '629.81': [],\n 'O09': ['O09.00',\n  'O09.01',\n  'O09.02',\n  'O09.03',\n  'O09.211',\n  'O09.212',\n  'O09.213',\n  'O09.219',\n  'O09.291',\n  'O09.292',\n  'O09.293',\n  'O09.299',\n  'O09.30',\n  'O09.31',\n  'O09.32',\n  'O09.33',\n  'O09.40',\n  'O09.41',\n  'O09.42',\n  'O09.43',\n  'O09.511',\n  'O09.512',\n  'O09.513',\n  'O09.519',\n  'O09.521',\n  'O09.522',\n  'O09.523',\n  'O09.529',\n  'O09.611',\n  'O09.612',\n  'O09.613',\n  'O09.621',\n  'O09.622',\n  'O09.623',\n  'O09.629',\n  'O09.70',\n  'O09.71',\n  'O09.72',\n  'O09.73',\n  'O09.811',\n  'O09.812',\n  'O09.813',\n  'O09.819',\n  'O09.891',\n  'O09.892',\n  'O09.893',\n  'O09.899',\n  'O09.90',\n  'O09.91',\n  'O09.92',\n  'O09.93',\n  'O09.A0',\n  'O09.A1',\n  'O09.A2',\n  'O09.A3'],\n 'O1*': ['O10.011',\n  'O10.012',\n  'O10.013',\n  'O10.019',\n  'O10.02',\n  'O10.03',\n  'O10.111',\n  'O10.112',\n  'O10.113',\n  'O10.119',\n  'O10.12',\n  'O10.13',\n  'O10.211',\n  'O10.212',\n  'O10.213',\n  'O10.219',\n  'O10.22',\n  'O10.23',\n  'O10.311',\n  'O10.312',\n  'O10.313',\n  'O10.319',\n  'O10.32',\n  'O10.412',\n  'O10.413',\n  'O10.419',\n  'O10.42',\n  'O10.911',\n  'O10.912',\n  'O10.913',\n  'O10.919',\n  'O10.92',\n  'O10.93',\n  'O11.2',\n  'O11.3',\n  'O11.4',\n  'O11.5',\n  'O11.9',\n  'O12.00',\n  'O12.01',\n  'O12.02',\n  'O12.03',\n  'O12.04',\n  'O12.05',\n  'O12.10',\n  'O12.11',\n  'O12.12',\n  'O12.13',\n  'O12.14',\n  'O12.15',\n  'O12.23',\n  'O12.25',\n  'O13.1',\n  'O13.2',\n  'O13.3',\n  'O13.4',\n  'O13.5',\n  'O13.9',\n  'O14.00',\n  'O14.02',\n  'O14.03',\n  'O14.04',\n  'O14.05',\n  'O14.10',\n  'O14.12',\n  'O14.13',\n  'O14.14',\n  'O14.15',\n  'O14.20',\n  'O14.22',\n  'O14.23',\n  'O14.24',\n  'O14.25',\n  'O14.90',\n  'O14.92',\n  'O14.93',\n  'O14.94',\n  'O14.95',\n  'O15.00',\n  'O15.02',\n  'O15.03',\n  'O15.1',\n  'O15.2',\n  'O15.9',\n  'O16.1',\n  'O16.2',\n  'O16.3',\n  'O16.4',\n  'O16.5',\n  'O16.9'],\n '642': ['642',\n  '642.0',\n  '642.00',\n  '642.01',\n  '642.02',\n  '642.03',\n  '642.04',\n  '642.11',\n  '642.13',\n  '642.20',\n  '642.21',\n  '642.23',\n  '642.24',\n  '642.3',\n  '642.30',\n  '642.31',\n  '642.32',\n  '642.33',\n  '642.34',\n  '642.4',\n  '642.40',\n  '642.41',\n  '642.42',\n  '642.43',\n  '642.44',\n  '642.5',\n  '642.50',\n  '642.51',\n  '642.52',\n  '642.53',\n  '642.54',\n  '642.6',\n  '642.60',\n  '642.61',\n  '642.62',\n  '642.63',\n  '642.64',\n  '642.70',\n  '642.71',\n  '642.72',\n  '642.73',\n  '642.74',\n  '642.9',\n  '642.90',\n  '642.91',\n  '642.92',\n  '642.93',\n  '642.94'],\n 'O43': ['O43.013',\n  'O43.019',\n  'O43.022',\n  'O43.023',\n  'O43.029',\n  'O43.101',\n  'O43.102',\n  'O43.103',\n  'O43.109',\n  'O43.113',\n  'O43.119',\n  'O43.121',\n  'O43.122',\n  'O43.123',\n  'O43.129',\n  'O43.191',\n  'O43.192',\n  'O43.193',\n  'O43.199',\n  'O43.211',\n  'O43.212',\n  'O43.213',\n  'O43.219',\n  'O43.223',\n  'O43.232',\n  'O43.233',\n  'O43.239',\n  'O43.813',\n  'O43.819',\n  'O43.891',\n  'O43.892',\n  'O43.893',\n  'O43.899',\n  'O43.90',\n  'O43.91',\n  'O43.92',\n  'O43.93'],\n '641': ['641.00',\n  '641.01',\n  '641.03',\n  '641.10',\n  '641.11',\n  '641.13',\n  '641.20',\n  '641.21',\n  '641.23',\n  '641.33',\n  '641.80',\n  '641.81',\n  '641.83',\n  '641.90',\n  '641.91',\n  '641.93'],\n '656': ['656.10',\n  '656.11',\n  '656.13',\n  '656.20',\n  '656.21',\n  '656.23',\n  '656.33',\n  '656.40',\n  '656.41',\n  '656.43',\n  '656.50',\n  '656.51',\n  '656.53',\n  '656.60',\n  '656.61',\n  '656.63',\n  '656.70',\n  '656.71',\n  '656.73',\n  '656.80',\n  '656.81',\n  '656.83',\n  '656.93'],\n 'O60': ['O60.00',\n  'O60.02',\n  'O60.03',\n  'O60.10X0',\n  'O60.10X1',\n  'O60.10X9',\n  'O60.12X0',\n  'O60.12X1',\n  'O60.12X2',\n  'O60.12X9',\n  'O60.13X0',\n  'O60.13X1',\n  'O60.13X2',\n  'O60.14X0',\n  'O60.14X1',\n  'O60.14X2',\n  'O60.14X3',\n  'O60.14X9',\n  'O60.22X0',\n  'O60.22X1',\n  'O60.23X0',\n  'O60.23X1',\n  'O60.23X2'],\n '644': ['644.00', '644.03', '644.10', '644.13', '644.20', '644.21'],\n 'O80': ['O80'],\n '650': ['650'],\n 'O0': ['O00.00',\n  'O00.01',\n  'O00.1',\n  'O00.10',\n  'O00.101',\n  'O00.102',\n  'O00.109',\n  'O00.111',\n  'O00.112',\n  'O00.119',\n  'O00.201',\n  'O00.202',\n  'O00.209',\n  'O00.211',\n  'O00.212',\n  'O00.219',\n  'O00.8',\n  'O00.80',\n  'O00.81',\n  'O00.9',\n  'O00.90',\n  'O00.91',\n  'O01.0',\n  'O01.1',\n  'O01.9',\n  'O02.0',\n  'O02.1',\n  'O02.81',\n  'O02.89',\n  'O02.9',\n  'O03.0',\n  'O03.1',\n  'O03.30',\n  'O03.33',\n  'O03.37',\n  'O03.38',\n  'O03.39',\n  'O03.4',\n  'O03.5',\n  'O03.6',\n  'O03.7',\n  'O03.80',\n  'O03.81',\n  'O03.82',\n  'O03.83',\n  'O03.87',\n  'O03.89',\n  'O03.9',\n  'O04.5',\n  'O04.6',\n  'O04.80',\n  'O04.82',\n  'O04.84',\n  'O04.87',\n  'O04.88',\n  'O04.89',\n  'O07.0',\n  'O07.1',\n  'O07.2',\n  'O07.37',\n  'O07.39',\n  'O07.4',\n  'O08.0',\n  'O08.1',\n  'O08.2',\n  'O08.3',\n  'O08.5',\n  'O08.82',\n  'O08.83',\n  'O08.89',\n  'O08.9',\n  'O09.00',\n  'O09.01',\n  'O09.02',\n  'O09.03',\n  'O09.211',\n  'O09.212',\n  'O09.213',\n  'O09.219',\n  'O09.291',\n  'O09.292',\n  'O09.293',\n  'O09.299',\n  'O09.30',\n  'O09.31',\n  'O09.32',\n  'O09.33',\n  'O09.40',\n  'O09.41',\n  'O09.42',\n  'O09.43',\n  'O09.511',\n  'O09.512',\n  'O09.513',\n  'O09.519',\n  'O09.521',\n  'O09.522',\n  'O09.523',\n  'O09.529',\n  'O09.611',\n  'O09.612',\n  'O09.613',\n  'O09.621',\n  'O09.622',\n  'O09.623',\n  'O09.629',\n  'O09.70',\n  'O09.71',\n  'O09.72',\n  'O09.73',\n  'O09.811',\n  'O09.812',\n  'O09.813',\n  'O09.819',\n  'O09.891',\n  'O09.892',\n  'O09.893',\n  'O09.899',\n  'O09.90',\n  'O09.91',\n  'O09.92',\n  'O09.93',\n  'O09.A0',\n  'O09.A1',\n  'O09.A2',\n  'O09.A3'],\n 'O03': ['O03.0',\n  'O03.1',\n  'O03.30',\n  'O03.33',\n  'O03.37',\n  'O03.38',\n  'O03.39',\n  'O03.4',\n  'O03.5',\n  'O03.6',\n  'O03.7',\n  'O03.80',\n  'O03.81',\n  'O03.82',\n  'O03.83',\n  'O03.87',\n  'O03.89',\n  'O03.9'],\n '634': ['634',\n  '634.00',\n  '634.01',\n  '634.10',\n  '634.11',\n  '634.50',\n  '634.60',\n  '634.61',\n  '634.70',\n  '634.80',\n  '634.81',\n  '634.82',\n  '634.9',\n  '634.90',\n  '634.91',\n  '634.92'],\n 'R10.': ['R10.0',\n  'R10.10',\n  'R10.11',\n  'R10.12',\n  'R10.13',\n  'R10.2',\n  'R10.30',\n  'R10.31',\n  'R10.32',\n  'R10.33',\n  'R10.811',\n  'R10.812',\n  'R10.813',\n  'R10.814',\n  'R10.815',\n  'R10.816',\n  'R10.817',\n  'R10.819',\n  'R10.821',\n  'R10.822',\n  'R10.823',\n  'R10.824',\n  'R10.825',\n  'R10.826',\n  'R10.827',\n  'R10.829',\n  'R10.83',\n  'R10.84',\n  'R10.9'],\n '789.0': ['789.0',\n  '789.00',\n  '789.01',\n  '789.02',\n  '789.03',\n  '789.04',\n  '789.05',\n  '789.06',\n  '789.07',\n  '789.09'],\n 'R10.3': ['R10.30', 'R10.31', 'R10.32', 'R10.33'],\n '789.03': ['789.03'],\n '789.04': ['789.04'],\n 'R30.0': ['R30.0'],\n '788.1': ['788.1'],\n 'M79.7': ['M79.7'],\n '729.1': ['729.1'],\n 'G43': ['G43.001',\n  'G43.009',\n  'G43.011',\n  'G43.019',\n  'G43.101',\n  'G43.109',\n  'G43.111',\n  'G43.119',\n  'G43.401',\n  'G43.409',\n  'G43.411',\n  'G43.419',\n  'G43.501',\n  'G43.509',\n  'G43.511',\n  'G43.519',\n  'G43.609',\n  'G43.611',\n  'G43.701',\n  'G43.709',\n  'G43.711',\n  'G43.719',\n  'G43.801',\n  'G43.809',\n  'G43.811',\n  'G43.819',\n  'G43.821',\n  'G43.829',\n  'G43.831',\n  'G43.839',\n  'G43.901',\n  'G43.909',\n  'G43.911',\n  'G43.919',\n  'G43.A0',\n  'G43.A1',\n  'G43.B0',\n  'G43.B1',\n  'G43.C0',\n  'G43.C1',\n  'G43.D0',\n  'G43.D1'],\n '346': ['346',\n  '346.0',\n  '346.00',\n  '346.01',\n  '346.02',\n  '346.03',\n  '346.1',\n  '346.10',\n  '346.11',\n  '346.12',\n  '346.13',\n  '346.2',\n  '346.20',\n  '346.21',\n  '346.3',\n  '346.30',\n  '346.31',\n  '346.4',\n  '346.40',\n  '346.41',\n  '346.42',\n  '346.50',\n  '346.51',\n  '346.52',\n  '346.60',\n  '346.70',\n  '346.71',\n  '346.72',\n  '346.73',\n  '346.8',\n  '346.80',\n  '346.81',\n  '346.82',\n  '346.83',\n  '346.9',\n  '346.90',\n  '346.91',\n  '346.92',\n  '346.93'],\n 'K58': ['K58.0', 'K58.1', 'K58.2', 'K58.8', 'K58.9'],\n '564.1': ['564.1'],\n 'K51': ['K51.00',\n  'K51.011',\n  'K51.012',\n  'K51.013',\n  'K51.014',\n  'K51.018',\n  'K51.019',\n  'K51.20',\n  'K51.211',\n  'K51.213',\n  'K51.214',\n  'K51.218',\n  'K51.219',\n  'K51.30',\n  'K51.311',\n  'K51.312',\n  'K51.313',\n  'K51.314',\n  'K51.318',\n  'K51.319',\n  'K51.40',\n  'K51.411',\n  'K51.412',\n  'K51.414',\n  'K51.418',\n  'K51.419',\n  'K51.50',\n  'K51.511',\n  'K51.512',\n  'K51.514',\n  'K51.518',\n  'K51.519',\n  'K51.80',\n  'K51.811',\n  'K51.812',\n  'K51.813',\n  'K51.814',\n  'K51.818',\n  'K51.819',\n  'K51.90',\n  'K51.911',\n  'K51.912',\n  'K51.913',\n  'K51.914',\n  'K51.918',\n  'K51.919'],\n '556': ['556',\n  '556.0',\n  '556.1',\n  '556.2',\n  '556.3',\n  '556.4',\n  '556.5',\n  '556.6',\n  '556.8',\n  '556.9'],\n 'N30.1': ['N30.10', 'N30.11'],\n '595.1': ['595.1'],\n 'N92.': ['N92.0', 'N92.1', 'N92.2', 'N92.3', 'N92.4', 'N92.5', 'N92.6'],\n '626': ['626',\n  '626.0',\n  '626.1',\n  '626.2',\n  '626.3',\n  '626.4',\n  '626.5',\n  '626.6',\n  '626.7',\n  '626.8',\n  '626.9'],\n 'M05': ['M05.00',\n  'M05.10',\n  'M05.121',\n  'M05.122',\n  'M05.131',\n  'M05.132',\n  'M05.149',\n  'M05.161',\n  'M05.162',\n  'M05.179',\n  'M05.19',\n  'M05.20',\n  'M05.212',\n  'M05.239',\n  'M05.249',\n  'M05.259',\n  'M05.261',\n  'M05.262',\n  'M05.271',\n  'M05.272',\n  'M05.279',\n  'M05.29',\n  'M05.30',\n  'M05.312',\n  'M05.371',\n  'M05.372',\n  'M05.40',\n  'M05.472',\n  'M05.49',\n  'M05.539',\n  'M05.551',\n  'M05.552',\n  'M05.562',\n  'M05.60',\n  'M05.611',\n  'M05.612',\n  'M05.632',\n  'M05.661',\n  'M05.69',\n  'M05.70',\n  'M05.711',\n  'M05.712',\n  'M05.719',\n  'M05.721',\n  'M05.722',\n  'M05.729',\n  'M05.731',\n  'M05.732',\n  'M05.739',\n  'M05.741',\n  'M05.742',\n  'M05.749',\n  'M05.751',\n  'M05.752',\n  'M05.759',\n  'M05.761',\n  'M05.762',\n  'M05.769',\n  'M05.771',\n  'M05.772',\n  'M05.779',\n  'M05.79',\n  'M05.7A',\n  'M05.80',\n  'M05.811',\n  'M05.831',\n  'M05.841',\n  'M05.851',\n  'M05.852',\n  'M05.861',\n  'M05.862',\n  'M05.871',\n  'M05.872',\n  'M05.89',\n  'M05.9'],\n 'M06': ['M06.00',\n  'M06.011',\n  'M06.012',\n  'M06.019',\n  'M06.021',\n  'M06.022',\n  'M06.031',\n  'M06.032',\n  'M06.039',\n  'M06.041',\n  'M06.042',\n  'M06.049',\n  'M06.051',\n  'M06.052',\n  'M06.061',\n  'M06.062',\n  'M06.069',\n  'M06.071',\n  'M06.072',\n  'M06.079',\n  'M06.08',\n  'M06.09',\n  'M06.0A',\n  'M06.1',\n  'M06.20',\n  'M06.221',\n  'M06.222',\n  'M06.231',\n  'M06.232',\n  'M06.241',\n  'M06.242',\n  'M06.271',\n  'M06.272',\n  'M06.30',\n  'M06.311',\n  'M06.321',\n  'M06.322',\n  'M06.329',\n  'M06.331',\n  'M06.332',\n  'M06.341',\n  'M06.342',\n  'M06.369',\n  'M06.371',\n  'M06.372',\n  'M06.379',\n  'M06.39',\n  'M06.4',\n  'M06.80',\n  'M06.811',\n  'M06.812',\n  'M06.821',\n  'M06.822',\n  'M06.831',\n  'M06.832',\n  'M06.841',\n  'M06.842',\n  'M06.849',\n  'M06.851',\n  'M06.852',\n  'M06.861',\n  'M06.862',\n  'M06.871',\n  'M06.872',\n  'M06.88',\n  'M06.89',\n  'M06.8A',\n  'M06.9'],\n 'M45': ['M45.0',\n  'M45.1',\n  'M45.2',\n  'M45.3',\n  'M45.4',\n  'M45.5',\n  'M45.6',\n  'M45.7',\n  'M45.8',\n  'M45.9',\n  'M45.A0',\n  'M45.A6'],\n '714.0': ['714.0'],\n 'M32': ['M32.0',\n  'M32.10',\n  'M32.11',\n  'M32.12',\n  'M32.13',\n  'M32.14',\n  'M32.15',\n  'M32.19',\n  'M32.8',\n  'M32.9'],\n '710.0': ['710.0'],\n 'G35': ['G35'],\n '340': ['340'],\n 'J45': ['J45.20',\n  'J45.21',\n  'J45.22',\n  'J45.30',\n  'J45.31',\n  'J45.32',\n  'J45.40',\n  'J45.41',\n  'J45.42',\n  'J45.50',\n  'J45.51',\n  'J45.52',\n  'J45.901',\n  'J45.902',\n  'J45.909',\n  'J45.990',\n  'J45.991',\n  'J45.998'],\n '493': ['493',\n  '493.0',\n  '493.00',\n  '493.01',\n  '493.02',\n  '493.1',\n  '493.10',\n  '493.11',\n  '493.12',\n  '493.2',\n  '493.20',\n  '493.21',\n  '493.22',\n  '493.81',\n  '493.82',\n  '493.9',\n  '493.90',\n  '493.91',\n  '493.92'],\n 'F17': [],\n '305.1': [],\n 'F10.2': [],\n '303': [],\n 'R06.2': ['R06.2'],\n '786.05': ['786.05']}"
     },
     "execution_count": 69,
     "metadata": {},
     "output_type": "execute_result"
    }
   ],
   "source": [
    "import json\n",
    "icd_code_dict = json.load(open('Pheno/FULL_PMBB_ICD_codes.json'))\n",
    "icd_code_dict"
   ],
   "metadata": {
    "collapsed": false,
    "pycharm": {
     "name": "#%%\n"
    }
   }
  },
  {
   "cell_type": "code",
   "execution_count": 70,
   "outputs": [
    {
     "data": {
      "text/plain": "{'endometriosis': {'icd10_cases': ['N80.*'], 'icd9_cases': ['617.*']},\n 'uterine_endometriosis': {'icd10_cases': ['N80.0'], 'icd9_cases': ['617.0']},\n 'adenomyosis': {'icd10_cases': ['N80.03'], 'icd9_cases': ['617.03']},\n 'not_uterine_endometriosis': {'icd10_cases': ['N80.*'],\n  'icd9_cases': ['617.*'],\n  'icd10_exclude': ['N80.0'],\n  'icd9_exclude': ['617.0']},\n 'not_adeno_endo': {'icd10_cases': ['N80.*'],\n  'icd9_cases': ['617.*'],\n  'icd10_exclude': ['N80.03'],\n  'icd9_exclude': ['617.03']},\n 'endo_N80.1': {'icd10_cases': ['N80.1'], 'icd9_cases': ['617.1']},\n 'endo_N80.2': {'icd10_cases': ['N80.2'], 'icd9_cases': ['617.2']},\n 'endo_N80.3': {'icd10_cases': ['N80.3'], 'icd9_cases': ['617.3']},\n 'endo_N80.4': {'icd10_cases': ['N80.4'], 'icd9_cases': ['617.4']},\n 'endo_N80.5': {'icd10_cases': ['N80.5'], 'icd9_cases': ['617.5']},\n 'endo_N80.6': {'icd10_cases': ['N80.6'], 'icd9_cases': ['617.6']},\n 'endo_N80.8': {'icd10_cases': ['N80.8'], 'icd9_cases': ['617.8']},\n 'endo_N80.9': {'icd10_cases': ['N80.9'], 'icd9_cases': ['617.9']},\n 'breast_cancer': {'icd10_cases': ['C50'], 'icd9_cases': ['174']},\n 'cervical_cancer': {'icd10_cases': ['C53'], 'icd9_cases': ['180']},\n 'ovarian_cancer': {'icd10_cases': ['C56'], 'icd9_cases': ['183.0']},\n 'uterine_cancer': {'icd10_cases': ['C55'], 'icd9_cases': ['182']},\n 'non_hodgkins_lymphoma': {'icd10_cases': ['C85']},\n 'melanoma': {'icd10_cases': ['C43'], 'icd9_cases': ['172']},\n 'thyroid_cancer': {'icd10_cases': ['C73'], 'icd9_cases': ['193']},\n 'leiomyoma_of_uterus': {'icd10_cases': ['D25'], 'icd9_cases': ['218']},\n 'pcos': {'icd10_cases': ['E28.2'], 'icd9_cases': ['256.4', '628.0']},\n 'type_2_diabetes': {'icd10_cases': ['E11'],\n  'icd9_codes': ['250.*0', '250.*2']},\n 'abnormal_cholesterol': {'icd10_cases': ['E78'], 'icd9_cases': ['272']},\n 'hypertension': {'icd10_cases': ['I10'], 'icd9_cases': ['401']},\n 'acute_myocardial_infarction': {'icd10_cases': ['I21'],\n  'icd9_cases': ['410']},\n 'ischemic_heart_disease_acute': {'icd10_cases': ['I24'],\n  'icd9_cases': ['411']},\n 'ischemic_heart_disease_chronic': {'icd10_cases': ['I25'],\n  'icd9_cases': ['414']},\n 'cerebral_infarction': {'icd10_cases': ['I63'], 'icd9_cases': ['434.*1']},\n 'chronic_pelvic_peritonitis': {'icd10_cases': ['N73.4'],\n  'icd9_cases': ['614.7']},\n 'dysmenorrhea': {'icd10_cases': ['N94.4', 'N94.5', 'N94.6'],\n  'icd9_cases': ['625.3']},\n 'pain_with_sex': {'icd10_cases': ['N94.1'], 'icd9_cases': ['625.0']},\n 'infertility': {'icd10_cases': ['N97.'], 'icd9_cases': ['628']},\n 'recurrent_pregnancy_loss': {'icd10_cases': ['N96.'],\n  'icd9_cases': ['629.81']},\n 'high_risk_pregnancy_supervision': {'icd10_cases': ['O09']},\n 'hypertensive_pregnancy_issues': {'icd10_cases': ['O1*'],\n  'icd9_cases': ['642']},\n 'placental_disorders': {'icd10_cases': ['O43'], 'icd9_cases': ['641', '656']},\n 'preterm_labor': {'icd10_cases': ['O60'], 'icd9_cases': ['644']},\n 'uncomplicated_delivery_encounter': {'icd10_cases': ['O80'],\n  'icd9_cases': ['650']},\n 'pregnancy_with_abortive_outcome': {'icd10_cases': ['O0'],\n  'icd10_exclude': ['O09']},\n 'miscarriage': {'icd10_cases': ['O03'], 'icd9_cases': ['634']},\n 'abdominal_pelvic_pain': {'icd10_cases': ['R10.'], 'icd9_cases': ['789.0']},\n 'lower_abdominal_pain': {'icd10_cases': ['R10.3'],\n  'icd9_cases': ['789.03', '789.04']},\n 'dysuria': {'icd10_cases': ['R30.0'], 'icd9_cases': ['788.1']},\n 'fibromyalgia': {'icd10_cases': ['M79.7'], 'icd9_cases': ['729.1']},\n 'migraine': {'icd10_cases': ['G43'], 'icd9_cases': ['346']},\n 'ibs': {'icd10_cases': ['K58'], 'icd9_cases': ['564.1']},\n 'ulcerative_colitis': {'icd10_cases': ['K51'], 'icd9_cases': ['556']},\n 'interstitial_cystitis': {'icd10_cases': ['N30.1'], 'icd9_cases': ['595.1']},\n 'irregular_menstruation': {'icd10_cases': ['N92.'], 'icd9_cases': ['626']},\n 'rheumatoid_arthritis': {'icd10_cases': ['M05', 'M06', 'M45'],\n  'icd9_cases': ['714.0']},\n 'systemic_lupus_erythematosus': {'icd10_cases': ['M32'],\n  'icd9_cases': ['710.0']},\n 'multiple_sclerosis': {'icd10_cases': ['G35'], 'icd9_cases': ['340']},\n 'asthma': {'icd10_cases': ['J45'], 'icd9_cases': ['493']},\n 'nicotine_dependence': {'icd10_cases': ['F17'], 'icd9_cases': ['305.1']},\n 'alcohol_dependence': {'icd10_cases': ['F10.2'], 'icd9_cases': ['303']},\n 'shortness_of_breath': {'icd10_cases': ['R06.2'], 'icd9_cases': ['786.05']}}"
     },
     "execution_count": 70,
     "metadata": {},
     "output_type": "execute_result"
    }
   ],
   "source": [
    "import yaml\n",
    "pheno_defs = yaml.safe_load(open('config_pheno.yaml'))['pheno_defs']\n",
    "pheno_defs"
   ],
   "metadata": {
    "collapsed": false,
    "pycharm": {
     "name": "#%%\n"
    }
   }
  },
  {
   "cell_type": "code",
   "execution_count": 71,
   "outputs": [],
   "source": [
    "pheno_codes_icd10 = {}\n",
    "pheno_codes_icd9 = {}\n",
    "\n",
    "for p, code_list in pheno_defs.items():\n",
    "    if p not in all_binary_cols:\n",
    "        continue\n",
    "    pheno_codes_icd10[p] = []\n",
    "    pheno_codes_icd9[p] = []\n",
    "    if 'icd10_cases' in code_list.keys():\n",
    "        # pheno_codes_icd10[p].extend([f'{c}*' for c in code_list['icd10_cases']])\n",
    "        for c in code_list['icd10_cases']:\n",
    "            pheno_codes_icd10[p].extend(icd_code_dict[c])\n",
    "            # pass\n",
    "    if 'icd9_cases' in code_list.keys():\n",
    "        # pheno_codes_icd9[p].extend([f'{c}*' for c in code_list['icd9_cases']])\n",
    "        for c in code_list['icd9_cases']:\n",
    "            pheno_codes_icd9[p].extend(icd_code_dict[c])\n",
    "            # pass"
   ],
   "metadata": {
    "collapsed": false,
    "pycharm": {
     "name": "#%%\n"
    }
   }
  },
  {
   "cell_type": "code",
   "execution_count": 84,
   "outputs": [
    {
     "data": {
      "text/plain": "                                                            Prev-fmt  \\\nCategory                   Pheno-fmt                                   \nComorbidities              abnormal cholesterol                41.6%   \n                           asthma                              15.2%   \n                           chronic pelvic peritonitis           0.0%   \n                           fibromyalgia                         4.2%   \n                           hypertension                        41.0%   \n                           ibs                                  4.8%   \n                           interstitial cystitis                0.5%   \n                           ischemic heart disease chronic      13.9%   \n                           migraine                             8.0%   \n                           multiple sclerosis                   1.0%   \n                           pcos                                 1.9%   \n                           rheumatoid arthritis                 2.3%   \n                           systemic lupus erythematosus         0.9%   \n                           ulcerative colitis                   1.7%   \nEndometriosis ICD Subtypes endo in cutaneous scar               0.0%   \n                           endo of fallopian tubes              0.1%   \n                           endo of intestine                    0.0%   \n                           endometrioma                         0.2%   \n                           other endo                           0.1%   \n                           superficial lesions                  0.2%   \n                           unspecified endo                     1.3%   \n                           uterine endo                         1.3%   \n                           vaginal endo                         0.0%   \nPregnancy-Related          high risk pregnancy supervision      4.7%   \n                           hypertensive pregnancy issues        2.6%   \n                           infertility                          2.4%   \n                           miscarriage                          1.4%   \n                           placental disorders                  1.1%   \n                           pregnancy with abortive outcome      0.8%   \n                           preterm labor                        0.6%   \n                           uncomplicated delivery encounter     1.9%   \nSymptoms                   abdominal pelvic pain               25.4%   \n                           dysmenorrhea                         1.9%   \n                           dysuria                              6.7%   \n                           irregular menstruation               8.8%   \n                           leiomyoma of uterus                  4.6%   \n                           lower abdominal pain                 9.4%   \n                           pain with sex                        0.9%   \n                           shortness of breath                 10.6%   \n\n                                                            Prev-Case-fmt  \\\nCategory                   Pheno-fmt                                        \nComorbidities              abnormal cholesterol                     32.7%   \n                           asthma                                   26.2%   \n                           chronic pelvic peritonitis                0.0%   \n                           fibromyalgia                              8.7%   \n                           hypertension                             33.5%   \n                           ibs                                      12.3%   \n                           interstitial cystitis                     2.5%   \n                           ischemic heart disease chronic            4.3%   \n                           migraine                                 22.3%   \n                           multiple sclerosis                        1.4%   \n                           pcos                                      6.1%   \n                           rheumatoid arthritis                      2.4%   \n                           systemic lupus erythematosus              1.5%   \n                           ulcerative colitis                        1.9%   \nEndometriosis ICD Subtypes endo in cutaneous scar                    0.5%   \n                           endo of fallopian tubes                   2.8%   \n                           endo of intestine                         1.1%   \n                           endometrioma                             10.3%   \n                           other endo                                3.7%   \n                           superficial lesions                       7.9%   \n                           unspecified endo                         62.3%   \n                           uterine endo                             44.1%   \n                           vaginal endo                              0.4%   \nPregnancy-Related          high risk pregnancy supervision           8.1%   \n                           hypertensive pregnancy issues             4.5%   \n                           infertility                              11.6%   \n                           miscarriage                               3.4%   \n                           placental disorders                       2.4%   \n                           pregnancy with abortive outcome           2.7%   \n                           preterm labor                             1.3%   \n                           uncomplicated delivery encounter          2.8%   \nSymptoms                   abdominal pelvic pain                    58.2%   \n                           dysmenorrhea                             17.1%   \n                           dysuria                                  15.1%   \n                           irregular menstruation                   37.8%   \n                           leiomyoma of uterus                      33.8%   \n                           lower abdominal pain                     24.4%   \n                           pain with sex                             5.9%   \n                           shortness of breath                      10.2%   \n\n                                                                                                     ICD-9-fmt  \\\nCategory                   Pheno-fmt                                                                             \nComorbidities              abnormal cholesterol              272, 272.0, 272.1, 272.2, 272.3, 272.4, 272.5,...   \n                           asthma                            493, 493.0, 493.00, 493.01, 493.02, 493.1, 493...   \n                           chronic pelvic peritonitis                                                    614.7   \n                           fibromyalgia                                                                  729.1   \n                           hypertension                                               401, 401.0, 401.1, 401.9   \n                           ibs                                                                           564.1   \n                           interstitial cystitis                                                         595.1   \n                           ischemic heart disease chronic    414.0, 414.00, 414.01, 414.02, 414.03, 414.04,...   \n                           migraine                          346, 346.0, 346.00, 346.01, 346.02, 346.03, 34...   \n                           multiple sclerosis                                                              340   \n                           pcos                                                                   256.4, 628.0   \n                           rheumatoid arthritis                                                          714.0   \n                           systemic lupus erythematosus                                                  710.0   \n                           ulcerative colitis                556, 556.0, 556.1, 556.2, 556.3, 556.4, 556.5,...   \nEndometriosis ICD Subtypes endo in cutaneous scar                                                        617.6   \n                           endo of fallopian tubes                                                       617.2   \n                           endo of intestine                                                             617.5   \n                           endometrioma                                                                  617.1   \n                           other endo                                                                    617.8   \n                           superficial lesions                                                           617.3   \n                           unspecified endo                                                              617.9   \n                           uterine endo                                                                  617.0   \n                           vaginal endo                                                                  617.4   \nPregnancy-Related          high risk pregnancy supervision                                                       \n                           hypertensive pregnancy issues     642, 642.0, 642.00, 642.01, 642.02, 642.03, 64...   \n                           infertility                       628, 628.0, 628.1, 628.2, 628.3, 628.4, 628.8,...   \n                           miscarriage                       634, 634.00, 634.01, 634.10, 634.11, 634.50, 6...   \n                           placental disorders               641.00, 641.01, 641.03, 641.10, 641.11, 641.13...   \n                           pregnancy with abortive outcome                                                       \n                           preterm labor                        644.00, 644.03, 644.10, 644.13, 644.20, 644.21   \n                           uncomplicated delivery encounter                                                650   \nSymptoms                   abdominal pelvic pain             789.0, 789.00, 789.01, 789.02, 789.03, 789.04,...   \n                           dysmenorrhea                                                                  625.3   \n                           dysuria                                                                       788.1   \n                           irregular menstruation            626, 626.0, 626.1, 626.2, 626.3, 626.4, 626.5,...   \n                           leiomyoma of uterus                                 218, 218.0, 218.1, 218.2, 218.9   \n                           lower abdominal pain                                                 789.03, 789.04   \n                           pain with sex                                                                 625.0   \n                           shortness of breath                                                          786.05   \n\n                                                                                                    ICD-10-fmt  \nCategory                   Pheno-fmt                                                                            \nComorbidities              abnormal cholesterol              E78.0, E78.00, E78.01, E78.1, E78.2, E78.3, E7...  \n                           asthma                            J45.20, J45.21, J45.22, J45.30, J45.31, J45.32...  \n                           chronic pelvic peritonitis                                                    N73.4  \n                           fibromyalgia                                                                  M79.7  \n                           hypertension                                                                    I10  \n                           ibs                                               K58.0, K58.1, K58.2, K58.8, K58.9  \n                           interstitial cystitis                                                N30.10, N30.11  \n                           ischemic heart disease chronic    I25.10, I25.110, I25.111, I25.118, I25.119, I2...  \n                           migraine                          G43.001, G43.009, G43.011, G43.019, G43.101, G...  \n                           multiple sclerosis                                                              G35  \n                           pcos                                                                          E28.2  \n                           rheumatoid arthritis              M05.00, M05.10, M05.121, M05.122, M05.131, M05...  \n                           systemic lupus erythematosus      M32.0, M32.10, M32.11, M32.12, M32.13, M32.14,...  \n                           ulcerative colitis                K51.00, K51.011, K51.012, K51.013, K51.014, K5...  \nEndometriosis ICD Subtypes endo in cutaneous scar                                                        N80.6  \n                           endo of fallopian tubes                                                       N80.2  \n                           endo of intestine                                                             N80.5  \n                           endometrioma                                                                  N80.1  \n                           other endo                                                                    N80.8  \n                           superficial lesions                                                           N80.3  \n                           unspecified endo                                                              N80.9  \n                           uterine endo                                                                  N80.0  \n                           vaginal endo                                                                  N80.4  \nPregnancy-Related          high risk pregnancy supervision   O09.00, O09.01, O09.02, O09.03, O09.211, O09.2...  \n                           hypertensive pregnancy issues     O10.011, O10.012, O10.013, O10.019, O10.02, O1...  \n                           infertility                                       N97.0, N97.1, N97.2, N97.8, N97.9  \n                           miscarriage                       O03.0, O03.1, O03.30, O03.33, O03.37, O03.38, ...  \n                           placental disorders               O43.013, O43.019, O43.022, O43.023, O43.029, O...  \n                           pregnancy with abortive outcome   O00.00, O00.01, O00.1, O00.10, O00.101, O00.10...  \n                           preterm labor                     O60.00, O60.02, O60.03, O60.10X0, O60.10X1, O6...  \n                           uncomplicated delivery encounter                                                O80  \nSymptoms                   abdominal pelvic pain             R10.0, R10.10, R10.11, R10.12, R10.13, R10.2, ...  \n                           dysmenorrhea                                                    N94.4, N94.5, N94.6  \n                           dysuria                                                                       R30.0  \n                           irregular menstruation              N92.0, N92.1, N92.2, N92.3, N92.4, N92.5, N92.6  \n                           leiomyoma of uterus                                      D25.0, D25.1, D25.2, D25.9  \n                           lower abdominal pain                                 R10.30, R10.31, R10.32, R10.33  \n                           pain with sex                                 N94.1, N94.10, N94.11, N94.12, N94.19  \n                           shortness of breath                                                           R06.2  ",
      "text/html": "<div>\n<style scoped>\n    .dataframe tbody tr th:only-of-type {\n        vertical-align: middle;\n    }\n\n    .dataframe tbody tr th {\n        vertical-align: top;\n    }\n\n    .dataframe thead th {\n        text-align: right;\n    }\n</style>\n<table border=\"1\" class=\"dataframe\">\n  <thead>\n    <tr style=\"text-align: right;\">\n      <th></th>\n      <th></th>\n      <th>Prev-fmt</th>\n      <th>Prev-Case-fmt</th>\n      <th>ICD-9-fmt</th>\n      <th>ICD-10-fmt</th>\n    </tr>\n    <tr>\n      <th>Category</th>\n      <th>Pheno-fmt</th>\n      <th></th>\n      <th></th>\n      <th></th>\n      <th></th>\n    </tr>\n  </thead>\n  <tbody>\n    <tr>\n      <th rowspan=\"14\" valign=\"top\">Comorbidities</th>\n      <th>abnormal cholesterol</th>\n      <td>41.6%</td>\n      <td>32.7%</td>\n      <td>272, 272.0, 272.1, 272.2, 272.3, 272.4, 272.5,...</td>\n      <td>E78.0, E78.00, E78.01, E78.1, E78.2, E78.3, E7...</td>\n    </tr>\n    <tr>\n      <th>asthma</th>\n      <td>15.2%</td>\n      <td>26.2%</td>\n      <td>493, 493.0, 493.00, 493.01, 493.02, 493.1, 493...</td>\n      <td>J45.20, J45.21, J45.22, J45.30, J45.31, J45.32...</td>\n    </tr>\n    <tr>\n      <th>chronic pelvic peritonitis</th>\n      <td>0.0%</td>\n      <td>0.0%</td>\n      <td>614.7</td>\n      <td>N73.4</td>\n    </tr>\n    <tr>\n      <th>fibromyalgia</th>\n      <td>4.2%</td>\n      <td>8.7%</td>\n      <td>729.1</td>\n      <td>M79.7</td>\n    </tr>\n    <tr>\n      <th>hypertension</th>\n      <td>41.0%</td>\n      <td>33.5%</td>\n      <td>401, 401.0, 401.1, 401.9</td>\n      <td>I10</td>\n    </tr>\n    <tr>\n      <th>ibs</th>\n      <td>4.8%</td>\n      <td>12.3%</td>\n      <td>564.1</td>\n      <td>K58.0, K58.1, K58.2, K58.8, K58.9</td>\n    </tr>\n    <tr>\n      <th>interstitial cystitis</th>\n      <td>0.5%</td>\n      <td>2.5%</td>\n      <td>595.1</td>\n      <td>N30.10, N30.11</td>\n    </tr>\n    <tr>\n      <th>ischemic heart disease chronic</th>\n      <td>13.9%</td>\n      <td>4.3%</td>\n      <td>414.0, 414.00, 414.01, 414.02, 414.03, 414.04,...</td>\n      <td>I25.10, I25.110, I25.111, I25.118, I25.119, I2...</td>\n    </tr>\n    <tr>\n      <th>migraine</th>\n      <td>8.0%</td>\n      <td>22.3%</td>\n      <td>346, 346.0, 346.00, 346.01, 346.02, 346.03, 34...</td>\n      <td>G43.001, G43.009, G43.011, G43.019, G43.101, G...</td>\n    </tr>\n    <tr>\n      <th>multiple sclerosis</th>\n      <td>1.0%</td>\n      <td>1.4%</td>\n      <td>340</td>\n      <td>G35</td>\n    </tr>\n    <tr>\n      <th>pcos</th>\n      <td>1.9%</td>\n      <td>6.1%</td>\n      <td>256.4, 628.0</td>\n      <td>E28.2</td>\n    </tr>\n    <tr>\n      <th>rheumatoid arthritis</th>\n      <td>2.3%</td>\n      <td>2.4%</td>\n      <td>714.0</td>\n      <td>M05.00, M05.10, M05.121, M05.122, M05.131, M05...</td>\n    </tr>\n    <tr>\n      <th>systemic lupus erythematosus</th>\n      <td>0.9%</td>\n      <td>1.5%</td>\n      <td>710.0</td>\n      <td>M32.0, M32.10, M32.11, M32.12, M32.13, M32.14,...</td>\n    </tr>\n    <tr>\n      <th>ulcerative colitis</th>\n      <td>1.7%</td>\n      <td>1.9%</td>\n      <td>556, 556.0, 556.1, 556.2, 556.3, 556.4, 556.5,...</td>\n      <td>K51.00, K51.011, K51.012, K51.013, K51.014, K5...</td>\n    </tr>\n    <tr>\n      <th rowspan=\"9\" valign=\"top\">Endometriosis ICD Subtypes</th>\n      <th>endo in cutaneous scar</th>\n      <td>0.0%</td>\n      <td>0.5%</td>\n      <td>617.6</td>\n      <td>N80.6</td>\n    </tr>\n    <tr>\n      <th>endo of fallopian tubes</th>\n      <td>0.1%</td>\n      <td>2.8%</td>\n      <td>617.2</td>\n      <td>N80.2</td>\n    </tr>\n    <tr>\n      <th>endo of intestine</th>\n      <td>0.0%</td>\n      <td>1.1%</td>\n      <td>617.5</td>\n      <td>N80.5</td>\n    </tr>\n    <tr>\n      <th>endometrioma</th>\n      <td>0.2%</td>\n      <td>10.3%</td>\n      <td>617.1</td>\n      <td>N80.1</td>\n    </tr>\n    <tr>\n      <th>other endo</th>\n      <td>0.1%</td>\n      <td>3.7%</td>\n      <td>617.8</td>\n      <td>N80.8</td>\n    </tr>\n    <tr>\n      <th>superficial lesions</th>\n      <td>0.2%</td>\n      <td>7.9%</td>\n      <td>617.3</td>\n      <td>N80.3</td>\n    </tr>\n    <tr>\n      <th>unspecified endo</th>\n      <td>1.3%</td>\n      <td>62.3%</td>\n      <td>617.9</td>\n      <td>N80.9</td>\n    </tr>\n    <tr>\n      <th>uterine endo</th>\n      <td>1.3%</td>\n      <td>44.1%</td>\n      <td>617.0</td>\n      <td>N80.0</td>\n    </tr>\n    <tr>\n      <th>vaginal endo</th>\n      <td>0.0%</td>\n      <td>0.4%</td>\n      <td>617.4</td>\n      <td>N80.4</td>\n    </tr>\n    <tr>\n      <th rowspan=\"8\" valign=\"top\">Pregnancy-Related</th>\n      <th>high risk pregnancy supervision</th>\n      <td>4.7%</td>\n      <td>8.1%</td>\n      <td></td>\n      <td>O09.00, O09.01, O09.02, O09.03, O09.211, O09.2...</td>\n    </tr>\n    <tr>\n      <th>hypertensive pregnancy issues</th>\n      <td>2.6%</td>\n      <td>4.5%</td>\n      <td>642, 642.0, 642.00, 642.01, 642.02, 642.03, 64...</td>\n      <td>O10.011, O10.012, O10.013, O10.019, O10.02, O1...</td>\n    </tr>\n    <tr>\n      <th>infertility</th>\n      <td>2.4%</td>\n      <td>11.6%</td>\n      <td>628, 628.0, 628.1, 628.2, 628.3, 628.4, 628.8,...</td>\n      <td>N97.0, N97.1, N97.2, N97.8, N97.9</td>\n    </tr>\n    <tr>\n      <th>miscarriage</th>\n      <td>1.4%</td>\n      <td>3.4%</td>\n      <td>634, 634.00, 634.01, 634.10, 634.11, 634.50, 6...</td>\n      <td>O03.0, O03.1, O03.30, O03.33, O03.37, O03.38, ...</td>\n    </tr>\n    <tr>\n      <th>placental disorders</th>\n      <td>1.1%</td>\n      <td>2.4%</td>\n      <td>641.00, 641.01, 641.03, 641.10, 641.11, 641.13...</td>\n      <td>O43.013, O43.019, O43.022, O43.023, O43.029, O...</td>\n    </tr>\n    <tr>\n      <th>pregnancy with abortive outcome</th>\n      <td>0.8%</td>\n      <td>2.7%</td>\n      <td></td>\n      <td>O00.00, O00.01, O00.1, O00.10, O00.101, O00.10...</td>\n    </tr>\n    <tr>\n      <th>preterm labor</th>\n      <td>0.6%</td>\n      <td>1.3%</td>\n      <td>644.00, 644.03, 644.10, 644.13, 644.20, 644.21</td>\n      <td>O60.00, O60.02, O60.03, O60.10X0, O60.10X1, O6...</td>\n    </tr>\n    <tr>\n      <th>uncomplicated delivery encounter</th>\n      <td>1.9%</td>\n      <td>2.8%</td>\n      <td>650</td>\n      <td>O80</td>\n    </tr>\n    <tr>\n      <th rowspan=\"8\" valign=\"top\">Symptoms</th>\n      <th>abdominal pelvic pain</th>\n      <td>25.4%</td>\n      <td>58.2%</td>\n      <td>789.0, 789.00, 789.01, 789.02, 789.03, 789.04,...</td>\n      <td>R10.0, R10.10, R10.11, R10.12, R10.13, R10.2, ...</td>\n    </tr>\n    <tr>\n      <th>dysmenorrhea</th>\n      <td>1.9%</td>\n      <td>17.1%</td>\n      <td>625.3</td>\n      <td>N94.4, N94.5, N94.6</td>\n    </tr>\n    <tr>\n      <th>dysuria</th>\n      <td>6.7%</td>\n      <td>15.1%</td>\n      <td>788.1</td>\n      <td>R30.0</td>\n    </tr>\n    <tr>\n      <th>irregular menstruation</th>\n      <td>8.8%</td>\n      <td>37.8%</td>\n      <td>626, 626.0, 626.1, 626.2, 626.3, 626.4, 626.5,...</td>\n      <td>N92.0, N92.1, N92.2, N92.3, N92.4, N92.5, N92.6</td>\n    </tr>\n    <tr>\n      <th>leiomyoma of uterus</th>\n      <td>4.6%</td>\n      <td>33.8%</td>\n      <td>218, 218.0, 218.1, 218.2, 218.9</td>\n      <td>D25.0, D25.1, D25.2, D25.9</td>\n    </tr>\n    <tr>\n      <th>lower abdominal pain</th>\n      <td>9.4%</td>\n      <td>24.4%</td>\n      <td>789.03, 789.04</td>\n      <td>R10.30, R10.31, R10.32, R10.33</td>\n    </tr>\n    <tr>\n      <th>pain with sex</th>\n      <td>0.9%</td>\n      <td>5.9%</td>\n      <td>625.0</td>\n      <td>N94.1, N94.10, N94.11, N94.12, N94.19</td>\n    </tr>\n    <tr>\n      <th>shortness of breath</th>\n      <td>10.6%</td>\n      <td>10.2%</td>\n      <td>786.05</td>\n      <td>R06.2</td>\n    </tr>\n  </tbody>\n</table>\n</div>"
     },
     "execution_count": 84,
     "metadata": {},
     "output_type": "execute_result"
    }
   ],
   "source": [
    "feature_table = pd.DataFrame(index=all_binary_cols)\n",
    "feature_table.index.name = 'Phenotype'\n",
    "\n",
    "feature_table.loc[long_term_outcomes, 'Category'] = 'Long-Term Outcomes'\n",
    "feature_table.loc[symptoms, 'Category'] = 'Symptoms'\n",
    "feature_table.loc[pregnancy_related, 'Category'] = 'Pregnancy-Related'\n",
    "feature_table.loc[comorbidities, 'Category'] = 'Comorbidities'\n",
    "feature_table.loc[endo_icd_subtypes, 'Category'] = 'Endometriosis ICD Subtypes'\n",
    "\n",
    "feature_table = feature_table[feature_table['Category'] != 'Long-Term Outcomes']\n",
    "\n",
    "feature_table['Prevalence'] = covDF[feature_table.index].mean()\n",
    "feature_table['Prevalence in Cases'] = covDF.loc[cases, feature_table.index].mean()\n",
    "feature_table[['Prev-fmt', 'Prev-Case-fmt']] = feature_table[['Prevalence', 'Prevalence in Cases']].applymap(lambda x: f'{x*100:.1f}%')\n",
    "\n",
    "feature_table['ICD-9'] = pd.Series(pheno_codes_icd9)\n",
    "feature_table['ICD-10'] = pd.Series(pheno_codes_icd10)\n",
    "feature_table[['ICD-9-fmt', 'ICD-10-fmt']] = feature_table[['ICD-9', 'ICD-10']].applymap(lambda x: ', '.join(x))\n",
    "\n",
    "feature_table = feature_table.rename(index = {'endo_N80.1': 'endometrioma',\n",
    "                                              'endo_N80.3': 'superficial_lesions',\n",
    "                                              'endo_N80.2': 'endo_of_fallopian_tubes',\n",
    "                                              'endo_N80.4': 'vaginal_endo',\n",
    "                                              'endo_N80.5': 'endo_of_intestine',\n",
    "                                              'endo_N80.6': 'endo_in_cutaneous_scar',\n",
    "                                              'endo_N80.8': 'other_endo',\n",
    "                                              'endo_N80.9': 'unspecified_endo',\n",
    "                                              'uterine_endometriosis': 'uterine_endo'}\n",
    ")\n",
    "\n",
    "feature_table['Pheno-fmt'] = feature_table.index.to_series().str.replace('_', ' ')\n",
    "\n",
    "feature_table = feature_table.reset_index().set_index(['Category', 'Pheno-fmt']).sort_index()\n",
    "\n",
    "feature_table[[c for c in feature_table.columns if 'fmt' in c]].to_csv('../Manuscript_Tables/supp_table_1_features.csv')\n",
    "feature_table[[c for c in feature_table.columns if 'fmt' in c]]"
   ],
   "metadata": {
    "collapsed": false,
    "pycharm": {
     "name": "#%%\n"
    }
   }
  },
  {
   "cell_type": "code",
   "execution_count": 74,
   "outputs": [
    {
     "data": {
      "text/plain": "(345, 914)"
     },
     "execution_count": 74,
     "metadata": {},
     "output_type": "execute_result"
    }
   ],
   "source": [
    "icd_9_set = []\n",
    "for k, v in pheno_codes_icd9.items():\n",
    "    icd_9_set.extend(v)\n",
    "\n",
    "icd_10_set = []\n",
    "for k, v in pheno_codes_icd10.items():\n",
    "    icd_10_set.extend(v)\n",
    "\n",
    "len(set(icd_9_set)), len(set(icd_10_set))"
   ],
   "metadata": {
    "collapsed": false,
    "pycharm": {
     "name": "#%%\n"
    }
   }
  },
  {
   "cell_type": "code",
   "execution_count": 85,
   "outputs": [
    {
     "data": {
      "text/plain": "4078"
     },
     "execution_count": 85,
     "metadata": {},
     "output_type": "execute_result"
    }
   ],
   "source": [
    "len(cases)"
   ],
   "metadata": {
    "collapsed": false,
    "pycharm": {
     "name": "#%%\n"
    }
   }
  },
  {
   "cell_type": "code",
   "execution_count": 87,
   "outputs": [
    {
     "name": "stdout",
     "output_type": "stream",
     "text": [
      "22 uterine_endometriosis, endo_N80.1, endo_N80.3, endo_N80.9, breast_cancer, leiomyoma_of_uterus, pcos, abnormal_cholesterol, hypertension, dysmenorrhea, pain_with_sex, infertility, high_risk_pregnancy_supervision, abdominal_pelvic_pain, lower_abdominal_pain, dysuria, fibromyalgia, migraine, ibs, irregular_menstruation, asthma, shortness_of_breath\n",
      "27 endo_N80.2, endo_N80.4, endo_N80.5, endo_N80.6, endo_N80.8, cervical_cancer, ovarian_cancer, uterine_cancer, non_hodgkins_lymphoma, melanoma, thyroid_cancer, acute_myocardial_infarction, ischemic_heart_disease_acute, ischemic_heart_disease_chronic, cerebral_infarction, chronic_pelvic_peritonitis, hypertensive_pregnancy_issues, placental_disorders, preterm_labor, uncomplicated_delivery_encounter, pregnancy_with_abortive_outcome, miscarriage, ulcerative_colitis, interstitial_cystitis, rheumatoid_arthritis, systemic_lupus_erythematosus, multiple_sclerosis\n",
      "2 RACE, ETHNICITY\n"
     ]
    }
   ],
   "source": [
    "cont_cols = [c for c in feature_df.columns if c not in binary_cols and len(feature_df[c].dropna().unique()) > 2]\n",
    "\n",
    "print(len(binary_cols), ', '.join(binary_cols))\n",
    "print(len(drop_binary_cols), ', '.join(drop_binary_cols))\n",
    "print(len(cont_cols), ', '.join(cont_cols))\n",
    "\n",
    "long_term_outcomes = [c for c in binary_cols if 'cancer' in c]\n",
    "long_term_outcomes.extend([c for c in binary_cols if 'infarction' in c])\n",
    "long_term_outcomes.append('ischemic_heart_disease_acute')\n",
    "long_term_outcomes.append('melanoma')\n",
    "\n",
    "risk_factor_cols = sorted([c for c in binary_cols if\n",
    "                           'endo' not in c and 'pregnancy_symptoms' not in c and c not in long_term_outcomes])\n",
    "# risk_factor_cols.remove('ulcerative_colitis')\n",
    "# risk_factor_cols.remove('crohns')\n",
    "# risk_factor_cols.remove('type_2_diabetes')\n",
    "risk_factor_age_cols = [c + '_age@dx' for c in risk_factor_cols]\n",
    "\n",
    "risk_factor_df = covDF.loc[cases, risk_factor_cols].copy()"
   ],
   "metadata": {
    "collapsed": false,
    "pycharm": {
     "name": "#%%\n"
    }
   }
  },
  {
   "cell_type": "code",
   "execution_count": 91,
   "outputs": [
    {
     "name": "stdout",
     "output_type": "stream",
     "text": [
      "4078\n"
     ]
    },
    {
     "data": {
      "text/plain": "<Figure size 800x600 with 1 Axes>",
      "image/png": "[encoded data removed]"
     },
     "metadata": {},
     "output_type": "display_data"
    },
    {
     "data": {
      "text/plain": "Feature\npain_with_sex                      0.058852\npcos                               0.060569\nhigh_risk_pregnancy_supervision    0.081167\nfibromyalgia                       0.087052\nshortness_of_breath                0.102011\ninfertility                        0.116233\nibs                                0.122854\ndysuria                            0.151300\ndysmenorrhea                       0.170672\nmigraine                           0.222658\nlower_abdominal_pain               0.243992\nasthma                             0.261648\nabnormal_cholesterol               0.327366\nhypertension                       0.334723\nleiomyoma_of_uterus                0.337666\nirregular_menstruation             0.377881\nabdominal_pelvic_pain              0.581903\nName: Cluster Set, dtype: float64"
     },
     "execution_count": 91,
     "metadata": {},
     "output_type": "execute_result"
    }
   ],
   "source": [
    "print(len(cases))\n",
    "feature_prev = risk_factor_df.mean().sort_values()\n",
    "plt.gcf().set_size_inches(8, 6)\n",
    "sns.barplot(x=feature_prev.index, y=feature_prev.values, palette='turbo', hue=feature_prev.index, legend=False)\n",
    "plt.xticks(rotation=45, ha='right')\n",
    "plt.ylabel('Prevalence')\n",
    "plt.xlabel('Feature')\n",
    "plt.title('Prevalence of the 17 Symptoms, Risk Factors, and Comorbidities Used for Clustering\\nAmong 4,078 Endometriosis Cases')\n",
    "plt.tight_layout()\n",
    "plt.savefig('../Manuscript_Plots/supp_figure_2_feature_prevalence.png', bbox_inches='tight')\n",
    "plt.show()\n",
    "feature_prev.name = 'Cluster Set'\n",
    "feature_prev.index.name = 'Feature'\n",
    "feature_prev.to_csv('../Feature_Extraction/clustering_set_prev.csv')\n",
    "feature_prev"
   ],
   "metadata": {
    "collapsed": false,
    "pycharm": {
     "name": "#%%\n"
    }
   }
  },
  {
   "cell_type": "code",
   "execution_count": null,
   "outputs": [],
   "source": [
    "feature_corr = risk_factor_df.corr() ** 2\n",
    "plt.gcf().set_size_inches(12, 8)\n",
    "sns.heatmap(feature_corr, vmin=0, vmax=1)\n",
    "plt.savefig('Plots/feature_correlation.png', bbox_inches='tight')\n",
    "plt.show()\n",
    "\n",
    "feature_corr.apply(lambda x: x.index[x.between(0.3, 0.99)], axis=1)"
   ],
   "metadata": {
    "collapsed": false,
    "pycharm": {
     "name": "#%%\n"
    }
   }
  },
  {
   "cell_type": "code",
   "execution_count": null,
   "outputs": [],
   "source": [
    "risk_factor_df.index.name = 'IID'\n",
    "print(risk_factor_df)\n",
    "output_data"
   ],
   "metadata": {
    "collapsed": false,
    "pycharm": {
     "name": "#%%\n"
    }
   }
  },
  {
   "cell_type": "markdown",
   "source": [],
   "metadata": {
    "collapsed": false,
    "pycharm": {
     "name": "#%% md\n"
    }
   }
  }
 ],
 "metadata": {
  "kernelspec": {
   "display_name": "Python 3",
   "language": "python",
   "name": "python3"
  },
  "language_info": {
   "codemirror_mode": {
    "name": "ipython",
    "version": 2
   },
   "file_extension": ".py",
   "mimetype": "text/x-python",
   "name": "python",
   "nbconvert_exporter": "python",
   "pygments_lexer": "ipython2",
   "version": "2.7.6"
  }
 },
 "nbformat": 4,
 "nbformat_minor": 0
}