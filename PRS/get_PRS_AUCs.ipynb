{
 "cells": [
  {
   "cell_type": "code",
   "execution_count": null,
   "metadata": {
    "collapsed": true,
    "pycharm": {
     "name": "#%%\n"
    }
   },
   "outputs": [],
   "source": [
    "import pandas as pd\n",
    "import os\n",
    "import numpy as np\n",
    "import statsmodels as sm\n",
    "import seaborn as sns\n",
    "import matplotlib.pyplot as plt\n",
    "import matplotlib as mpl\n",
    "\n",
    "os.chdir('/project/ssverma_shared/projects/Endometriosis/Endo_Subtyping_Heterogeneity/PRS')"
   ]
  },
  {
   "cell_type": "code",
   "execution_count": null,
   "outputs": [],
   "source": [
    "colors = ['fuchsia',\n",
    "          'darkviolet',\n",
    "          'dodgerblue',\n",
    "          'mediumspringgreen',\n",
    "          'g']\n",
    "\n",
    "#colors = colors[:3]\n",
    "\n",
    "mpl.rcParams['axes.prop_cycle'] = mpl.cycler(color=colors)\n",
    "\n",
    "for i in range(len(colors)):\n",
    "    plt.plot([0, 1], [i, i])\n",
    "\n",
    "plt.show()\n",
    "\n",
    "new_cmap = mpl.colors.ListedColormap(colors)\n",
    "\n",
    "colors2 = [c for c in colors]\n",
    "colors2.insert(0, 'k')\n",
    "new_cmap2 = mpl.colors.ListedColormap(colors2)"
   ],
   "metadata": {
    "collapsed": false,
    "pycharm": {
     "name": "#%%\n"
    }
   }
  },
  {
   "cell_type": "code",
   "execution_count": null,
   "outputs": [],
   "source": [
    "from sklearn.preprocessing import OneHotEncoder\n",
    "from sklearn.metrics import auc\n",
    "from sklearn.metrics import roc_curve"
   ],
   "metadata": {
    "collapsed": false,
    "pycharm": {
     "name": "#%%\n"
    }
   }
  },
  {
   "cell_type": "code",
   "execution_count": null,
   "outputs": [],
   "source": [
    "def make_quantile_plot(label_groups, quantiles, plot_ax):\n",
    "    plot_ax.axhline(1, linestyle='dashed', c='silver')\n",
    "    for group, col in label_groups.iteritems():\n",
    "        y = col.groupby(quantiles).mean() / col.mean()\n",
    "        if len(label_groups.columns) == 1:\n",
    "            plot_ax.plot(y.index, y, alpha=0.5, color='k')\n",
    "            plot_ax.scatter(y.index, y, label=group, c='k')\n",
    "        else:\n",
    "            plot_ax.plot(y.index, y, alpha=0.5)\n",
    "            plot_ax.scatter(y.index, y, label=group)\n",
    "    plot_ax.set_xlabel('Decile')\n",
    "    plot_ax.set_ylabel('Odds Ratio')\n",
    "    # plot_ax.set_ylim(0, 4)\n",
    "    # plot_ax.legend()\n",
    "    plot_ax.set_title(quantiles.name)\n",
    "\n",
    "def make_rare_quantile_plot(label_groups, score_series, quantile_cuts, plot_ax):\n",
    "    plot_ax.axhline(1, linestyle='dashed', c='silver')\n",
    "    bins = np.quantile(score_series, quantile_cuts)\n",
    "    quantiles = pd.cut(score_series, bins, labels=False, include_lowest=True) + 1\n",
    "    for group, col in label_groups.iteritems():\n",
    "        y = col.groupby(quantiles).mean() / col.mean()\n",
    "        if len(label_groups.columns) == 1:\n",
    "            plot_ax.plot(y.index, y, alpha=0.5, c='k')\n",
    "            plot_ax.scatter(y.index, y, label=group, c='k')\n",
    "        else:\n",
    "            plot_ax.plot(y.index, y, alpha=0.5)\n",
    "            plot_ax.scatter(y.index, y, label=group)\n",
    "    plot_ax.set_xlabel('Quantile')\n",
    "    plot_ax.set_ylabel('Odds Ratio')\n",
    "    # plot_ax.set_ylim(0, 4)\n",
    "    plot_ax.legend()\n",
    "    plot_ax.set_xticks(quantiles.unique(), quantile_cuts[:-1])\n",
    "    plot_ax.set_title(quantiles.name)\n",
    "\n",
    "def make_roc_plot(label_groups, score_series, plot_ax, true_labels):\n",
    "    plot_ax.plot([0, 1], [0, 1], linestyle='dashed', c='silver')\n",
    "    for group, col in label_groups.iteritems():\n",
    "        col = col.dropna()\n",
    "        samples = col.index.intersection(true_labels.dropna().index).intersection(score_series.dropna().index)\n",
    "\n",
    "        fpr, tpr, thresholds = roc_curve(col.loc[samples], score_series.loc[samples])\n",
    "        auc_score = auc(fpr, tpr)\n",
    "        if len(label_groups.columns) == 1:\n",
    "            plot_ax.plot(fpr[1::max((len(thresholds) // 100), 1)], tpr[1::max((len(thresholds) // 100), 1)], label='AUC = ' + str(round(auc_score, 3)), color='k')\n",
    "        else:\n",
    "            plot_ax.plot(fpr[1::max((len(thresholds) // 100), 1)], tpr[1::max((len(thresholds) // 100), 1)], label='AUC = ' + str(round(auc_score, 3)))\n",
    "        plot_ax.legend(loc='lower right')\n",
    "    plot_ax.set_xlabel('False Positive Rate')\n",
    "    plot_ax.set_ylabel('True Positive Rate')\n",
    "    plot_ax.set_title(score_series.name)\n",
    "\n",
    "def make_hist_or_plot(label_groups, score_series, plot_ax, x_min=-2.5, x_max=2.5):\n",
    "    use_bins = np.linspace(x_min, x_max, 11)\n",
    "    score_cut = pd.cut(score_series, bins=use_bins)\n",
    "    plot_ax.set_xlim(x_min, x_max)\n",
    "\n",
    "    sns.kdeplot(score_series, color='k', fill=True, ax=plot_ax, bw_adjust=3)\n",
    "\n",
    "    ax2 = plot_ax.twinx()\n",
    "    plot_ax.grid(False, axis='y')\n",
    "\n",
    "    for group, col in label_groups.iteritems():\n",
    "        prevs = col.groupby(score_cut).mean()\n",
    "        prevs = prevs / col.mean()\n",
    "        if len(label_groups.columns) == 1:\n",
    "            ax2.plot((use_bins[:-1] + use_bins[1:]) / 2, prevs, c='k')\n",
    "            ax2.scatter((use_bins[:-1] + use_bins[1:]) / 2, prevs, label=group, c='k')\n",
    "        else:\n",
    "            ax2.plot((use_bins[:-1] + use_bins[1:]) / 2, prevs)\n",
    "            ax2.scatter((use_bins[:-1] + use_bins[1:]) / 2, prevs, label=group)\n",
    "\n",
    "    plot_ax.set_title(score_series.name)\n",
    "\n",
    "    # ax2.legend(ncol=1)\n",
    "    ax2.set_ylabel('Odds Ratio')\n",
    "    # plot_ax.set_xlabel('Logistic Probability of Being a Case')\n",
    "    plot_ax.set_xlabel('Score')"
   ],
   "metadata": {
    "collapsed": false,
    "pycharm": {
     "name": "#%%\n"
    }
   }
  },
  {
   "cell_type": "code",
   "execution_count": null,
   "outputs": [],
   "source": [
    "pheno = pd.read_csv('../Feature_Extraction/cluster_phenotypes_multi_ancestry.csv', index_col='IID')\n",
    "scores = pd.read_csv('all_endo_scores.csv', index_col='IID', low_memory=False)\n",
    "pheno = pheno.loc[pheno.index.intersection(scores.index)]\n",
    "pheno"
   ],
   "metadata": {
    "collapsed": false,
    "pycharm": {
     "name": "#%%\n"
    }
   }
  },
  {
   "cell_type": "code",
   "execution_count": null,
   "outputs": [],
   "source": [
    "for dataset, subDF in scores.groupby(pheno['Dataset']):\n",
    "    scores.loc[subDF.index, 'Endo_SCORE_AVG'] = (subDF['Endo_SCORE_AVG'] - subDF['Endo_SCORE_AVG'].mean()) / subDF['Endo_SCORE_AVG'].std()\n",
    "    scores.loc[subDF.index, 'Endo_Quantiles'] = pd.qcut(subDF['Endo_SCORE_AVG'], 10, labels=False) + 1\n",
    "\n",
    "plt.hist(scores['Endo_SCORE_AVG'])\n",
    "plt.show()\n",
    "\n",
    "scores"
   ],
   "metadata": {
    "collapsed": false,
    "pycharm": {
     "name": "#%%\n"
    }
   }
  },
  {
   "cell_type": "code",
   "execution_count": null,
   "outputs": [],
   "source": [
    "pheno['Dataset'].value_counts()"
   ],
   "metadata": {
    "collapsed": false,
    "pycharm": {
     "name": "#%%\n"
    }
   }
  },
  {
   "cell_type": "code",
   "execution_count": null,
   "outputs": [],
   "source": [
    "fig, axes = plt.subplots(ncols=4)\n",
    "fig.set_size_inches(16, 4)\n",
    "\n",
    "enc = OneHotEncoder(sparse=False)\n",
    "enc.fit(pheno[['Dataset']])\n",
    "dataset_groups = pd.DataFrame(enc.transform(pheno[['Dataset']]), index=pheno.index, columns=list(enc.categories_[0]))\n",
    "\n",
    "endo_2D = np.broadcast_to(pheno['endometriosis'], (3, len(pheno))).T.astype(int)\n",
    "\n",
    "plot_groups = dataset_groups + endo_2D\n",
    "plot_groups = plot_groups.replace({0: np.nan, 1: 0, 2: 1})\n",
    "\n",
    "plot_groups.fillna('NA').apply(lambda x: x.value_counts(), result_type='expand')\n",
    "\n",
    "make_quantile_plot(plot_groups, quantiles=scores['Endo_Quantiles'], plot_ax=axes[0])\n",
    "\n",
    "make_rare_quantile_plot(plot_groups, scores['Endo_SCORE_AVG'], quantile_cuts=[0, 0.5, 0.75, 0.9, 0.99, 1], plot_ax=axes[1])\n",
    "\n",
    "make_roc_plot(plot_groups, scores['Endo_SCORE_AVG'], plot_ax=axes[2], true_labels=pheno['endometriosis'])\n",
    "\n",
    "make_hist_or_plot(plot_groups, scores['Endo_SCORE_AVG'], plot_ax=axes[3])\n",
    "\n",
    "plt.tight_layout()\n",
    "os.makedirs('Plots/', exist_ok=True)\n",
    "plt.savefig('Plots/endo_scores_by_datasets_multipane.png', bbox_inches='tight')\n",
    "plt.show()"
   ],
   "metadata": {
    "collapsed": false,
    "pycharm": {
     "name": "#%%\n"
    }
   }
  },
  {
   "cell_type": "code",
   "execution_count": null,
   "outputs": [],
   "source": [
    "fig, axes = plt.subplots(ncols=4)\n",
    "fig.set_size_inches(16, 4)\n",
    "\n",
    "pheno_map = {'cluster_vs_controls_1': '1: pain comorbidities',\n",
    "             'cluster_vs_controls_2': '2: uterine disorders',\n",
    "             'cluster_vs_controls_3': '3: pregnancy complications',\n",
    "             'cluster_vs_controls_4': '4: cardiometabolic comorbidities',\n",
    "             'cluster_vs_controls_5': '5: EHR-asymptomatic',\n",
    "             'endometriosis': '0: baseline endometriosis'}\n",
    "\n",
    "cluster_cols = [c for c in pheno if 'cluster_' in c]\n",
    "plot_groups = pheno[cluster_cols].copy()\n",
    "plot_groups = plot_groups.rename(columns=pheno_map)\n",
    "\n",
    "plot_groups.fillna('NA').apply(lambda x: x.value_counts(), result_type='expand')\n",
    "\n",
    "make_quantile_plot(plot_groups, quantiles=scores['Endo_Quantiles'], plot_ax=axes[0])\n",
    "\n",
    "make_rare_quantile_plot(plot_groups, scores['Endo_SCORE_AVG'], quantile_cuts=[0, 0.5, 0.75, 0.9, 0.99, 1], plot_ax=axes[1])\n",
    "\n",
    "make_roc_plot(plot_groups, scores['Endo_SCORE_AVG'], plot_ax=axes[2], true_labels=pheno['endometriosis'])\n",
    "\n",
    "make_hist_or_plot(plot_groups, scores['Endo_SCORE_AVG'], plot_ax=axes[3])\n",
    "\n",
    "plt.tight_layout()\n",
    "os.makedirs('Plots/', exist_ok=True)\n",
    "plt.savefig('Plots/endo_scores_by_clusters_multipane.png', bbox_inches='tight')\n",
    "plt.show()"
   ],
   "metadata": {
    "collapsed": false,
    "pycharm": {
     "name": "#%%\n"
    }
   }
  },
  {
   "cell_type": "code",
   "execution_count": null,
   "outputs": [],
   "source": [
    "fig, axes = plt.subplots(ncols=4)\n",
    "fig.set_size_inches(16, 4)\n",
    "\n",
    "pheno_map = {'cluster_vs_controls_1': '1: pain comorbidities',\n",
    "             'cluster_vs_controls_2': '2: uterine disorders',\n",
    "             'cluster_vs_controls_3': '3: pregnancy complications',\n",
    "             'cluster_vs_controls_4': '4: cardiometabolic comorbidities',\n",
    "             'cluster_vs_controls_5': '5: EHR-asymptomatic',\n",
    "             'endometriosis': '0: baseline endometriosis'}\n",
    "\n",
    "cluster_cols = [c for c in pheno if 'cluster_' in c]\n",
    "plot_groups = pheno[['endometriosis']].copy()\n",
    "plot_groups = plot_groups.rename(columns=pheno_map)\n",
    "\n",
    "plot_groups.fillna('NA').apply(lambda x: x.value_counts(), result_type='expand')\n",
    "\n",
    "make_quantile_plot(plot_groups, quantiles=scores['Endo_Quantiles'], plot_ax=axes[0])\n",
    "\n",
    "make_rare_quantile_plot(plot_groups, scores['Endo_SCORE_AVG'], quantile_cuts=[0, 0.5, 0.75, 0.9, 0.99, 1], plot_ax=axes[1])\n",
    "\n",
    "make_roc_plot(plot_groups, scores['Endo_SCORE_AVG'], plot_ax=axes[2], true_labels=pheno['endometriosis'])\n",
    "\n",
    "make_hist_or_plot(plot_groups, scores['Endo_SCORE_AVG'], plot_ax=axes[3])\n",
    "\n",
    "plt.tight_layout()\n",
    "os.makedirs('Plots/', exist_ok=True)\n",
    "plt.savefig('Plots/endo_scores_baseline_multipane.png', bbox_inches='tight')\n",
    "plt.show()"
   ],
   "metadata": {
    "collapsed": false,
    "pycharm": {
     "name": "#%%\n"
    }
   }
  },
  {
   "cell_type": "code",
   "execution_count": null,
   "outputs": [],
   "source": [
    "scores['Cluster'] = (np.broadcast_to(np.arange(1, 6), pheno[cluster_cols].shape) * pheno[cluster_cols]).sum(axis=1)\n",
    "print(scores['Cluster'].value_counts())\n",
    "sns.boxplot(y=scores['Endo_SCORE_AVG'], x=scores['Cluster'], showfliers=False)\n",
    "plt.show()"
   ],
   "metadata": {
    "collapsed": false,
    "pycharm": {
     "name": "#%%\n"
    }
   }
  }
 ],
 "metadata": {
  "kernelspec": {
   "display_name": "Python 3",
   "language": "python",
   "name": "python3"
  },
  "language_info": {
   "codemirror_mode": {
    "name": "ipython",
    "version": 2
   },
   "file_extension": ".py",
   "mimetype": "text/x-python",
   "name": "python",
   "nbconvert_exporter": "python",
   "pygments_lexer": "ipython2",
   "version": "2.7.6"
  }
 },
 "nbformat": 4,
 "nbformat_minor": 0
}